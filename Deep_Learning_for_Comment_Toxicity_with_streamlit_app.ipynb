{
  "cells": [
    {
      "cell_type": "code",
      "execution_count": 1,
      "id": "3f32de0a",
      "metadata": {
        "id": "3f32de0a"
      },
      "outputs": [],
      "source": [
        "#importing necessary libraries\n",
        "#Basic libraries for data manipulation and visualization\n",
        "import pandas as pd\n",
        "import numpy as np\n",
        "import matplotlib.pyplot as plt\n",
        "import seaborn as sns\n",
        "import re # for regular expressions text cleaning\n",
        "\n",
        "\n",
        "\n",
        "# Deep learning libraries - pytorch\n",
        "\n",
        "import torch\n",
        "from torch.utils.data import DataLoader, Dataset\n",
        "from torch import nn\n",
        "import torch.nn as nn\n",
        "from torch.optim import AdamW\n",
        "\n",
        "# Hugging Face Transformers library\n",
        "\n",
        "from transformers import BertTokenizer, BertForSequenceClassification, get_linear_schedule_with_warmup\n",
        "\n",
        "# Sklearn for model evaluation\n",
        "from sklearn.model_selection import train_test_split\n",
        "from sklearn.metrics import roc_auc_score,classification_report,hamming_loss,accuracy_score"
      ]
    },
    {
      "cell_type": "code",
      "execution_count": 2,
      "id": "abce7765",
      "metadata": {
        "id": "abce7765"
      },
      "outputs": [],
      "source": [
        "# To read the csv file for training data\n",
        "df_train = pd.read_csv('C:/Users/mosel/Documents/PYTHON/deep_learning/train.csv',encoding='latin1')"
      ]
    },
    {
      "cell_type": "code",
      "execution_count": 3,
      "id": "04a07e5e",
      "metadata": {
        "colab": {
          "base_uri": "https://localhost:8080/"
        },
        "id": "04a07e5e",
        "outputId": "fdd8654b-510b-43c7-aca4-372fa95b1735"
      },
      "outputs": [
        {
          "data": {
            "text/plain": [
              "(159571, 8)"
            ]
          },
          "execution_count": 3,
          "metadata": {},
          "output_type": "execute_result"
        }
      ],
      "source": [
        "df_train.shape"
      ]
    },
    {
      "cell_type": "code",
      "execution_count": 4,
      "id": "42f77f8b",
      "metadata": {
        "id": "42f77f8b"
      },
      "outputs": [],
      "source": [
        "df_test = pd.read_csv('C:/Users/mosel/Documents/PYTHON/deep_learning/test.csv',encoding='latin1')"
      ]
    },
    {
      "cell_type": "code",
      "execution_count": 5,
      "id": "52f3fc7c",
      "metadata": {
        "colab": {
          "base_uri": "https://localhost:8080/",
          "height": 186
        },
        "id": "52f3fc7c",
        "outputId": "3321b15a-490e-4dfa-e2f5-8301d2f41784"
      },
      "outputs": [
        {
          "data": {
            "text/plain": [
              "<bound method NDFrame.head of                       id                                       comment_text  \\\n",
              "0       0000997932d777bf  Explanation\\nWhy the edits made under my usern...   \n",
              "1       000103f0d9cfb60f  D'aww! He matches this background colour I'm s...   \n",
              "2       000113f07ec002fd  Hey man, I'm really not trying to edit war. It...   \n",
              "3       0001b41b1c6bb37e  \"\\nMore\\nI can't make any real suggestions on ...   \n",
              "4       0001d958c54c6e35  You, sir, are my hero. Any chance you remember...   \n",
              "...                  ...                                                ...   \n",
              "159566  ffe987279560d7ff  \":::::And for the second time of asking, when ...   \n",
              "159567  ffea4adeee384e90  You should be ashamed of yourself \\n\\nThat is ...   \n",
              "159568  ffee36eab5c267c9  Spitzer \\n\\nUmm, theres no actual article for ...   \n",
              "159569  fff125370e4aaaf3  And it looks like it was actually you who put ...   \n",
              "159570  fff46fc426af1f9a  \"\\nAnd ... I really don't think you understand...   \n",
              "\n",
              "        toxic  severe_toxic  obscene  threat  insult  identity_hate  \n",
              "0           0             0        0       0       0              0  \n",
              "1           0             0        0       0       0              0  \n",
              "2           0             0        0       0       0              0  \n",
              "3           0             0        0       0       0              0  \n",
              "4           0             0        0       0       0              0  \n",
              "...       ...           ...      ...     ...     ...            ...  \n",
              "159566      0             0        0       0       0              0  \n",
              "159567      0             0        0       0       0              0  \n",
              "159568      0             0        0       0       0              0  \n",
              "159569      0             0        0       0       0              0  \n",
              "159570      0             0        0       0       0              0  \n",
              "\n",
              "[159571 rows x 8 columns]>"
            ]
          },
          "execution_count": 5,
          "metadata": {},
          "output_type": "execute_result"
        }
      ],
      "source": [
        "df_train.head"
      ]
    },
    {
      "cell_type": "code",
      "execution_count": 6,
      "id": "5987e07a",
      "metadata": {
        "colab": {
          "base_uri": "https://localhost:8080/",
          "height": 186
        },
        "id": "5987e07a",
        "outputId": "92d34b5c-8c8c-418f-8d69-b49fdfdd2554"
      },
      "outputs": [
        {
          "data": {
            "text/plain": [
              "<bound method NDFrame.head of                       id                                       comment_text\n",
              "0       00001cee341fdb12  Yo bitch Ja Rule is more succesful then you'll...\n",
              "1       0000247867823ef7  == From RfC == \\n\\n The title is fine as it is...\n",
              "2       00013b17ad220c46  \" \\n\\n == Sources == \\n\\n * Zawe Ashton on Lap...\n",
              "3       00017563c3f7919a  :If you have a look back at the source, the in...\n",
              "4       00017695ad8997eb          I don't anonymously edit articles at all.\n",
              "...                  ...                                                ...\n",
              "153159  fffcd0960ee309b5  . \\n i totally agree, this stuff is nothing bu...\n",
              "153160  fffd7a9a6eb32c16  == Throw from out field to home plate. == \\n\\n...\n",
              "153161  fffda9e8d6fafa9e  \" \\n\\n == Okinotorishima categories == \\n\\n I ...\n",
              "153162  fffe8f1340a79fc2  \" \\n\\n == \"\"One of the founding nations of the...\n",
              "153163  ffffce3fb183ee80  \" \\n :::Stop already. Your bullshit is not wel...\n",
              "\n",
              "[153164 rows x 2 columns]>"
            ]
          },
          "execution_count": 6,
          "metadata": {},
          "output_type": "execute_result"
        }
      ],
      "source": [
        "df_test.head"
      ]
    },
    {
      "cell_type": "code",
      "execution_count": 7,
      "id": "f97486a7",
      "metadata": {
        "colab": {
          "base_uri": "https://localhost:8080/",
          "height": 186
        },
        "id": "f97486a7",
        "outputId": "654303f5-3469-4723-9dcb-a1d4fb41c899"
      },
      "outputs": [
        {
          "data": {
            "text/plain": [
              "<bound method NDFrame.describe of                       id                                       comment_text  \\\n",
              "0       0000997932d777bf  Explanation\\nWhy the edits made under my usern...   \n",
              "1       000103f0d9cfb60f  D'aww! He matches this background colour I'm s...   \n",
              "2       000113f07ec002fd  Hey man, I'm really not trying to edit war. It...   \n",
              "3       0001b41b1c6bb37e  \"\\nMore\\nI can't make any real suggestions on ...   \n",
              "4       0001d958c54c6e35  You, sir, are my hero. Any chance you remember...   \n",
              "...                  ...                                                ...   \n",
              "159566  ffe987279560d7ff  \":::::And for the second time of asking, when ...   \n",
              "159567  ffea4adeee384e90  You should be ashamed of yourself \\n\\nThat is ...   \n",
              "159568  ffee36eab5c267c9  Spitzer \\n\\nUmm, theres no actual article for ...   \n",
              "159569  fff125370e4aaaf3  And it looks like it was actually you who put ...   \n",
              "159570  fff46fc426af1f9a  \"\\nAnd ... I really don't think you understand...   \n",
              "\n",
              "        toxic  severe_toxic  obscene  threat  insult  identity_hate  \n",
              "0           0             0        0       0       0              0  \n",
              "1           0             0        0       0       0              0  \n",
              "2           0             0        0       0       0              0  \n",
              "3           0             0        0       0       0              0  \n",
              "4           0             0        0       0       0              0  \n",
              "...       ...           ...      ...     ...     ...            ...  \n",
              "159566      0             0        0       0       0              0  \n",
              "159567      0             0        0       0       0              0  \n",
              "159568      0             0        0       0       0              0  \n",
              "159569      0             0        0       0       0              0  \n",
              "159570      0             0        0       0       0              0  \n",
              "\n",
              "[159571 rows x 8 columns]>"
            ]
          },
          "execution_count": 7,
          "metadata": {},
          "output_type": "execute_result"
        }
      ],
      "source": [
        "df_train.describe"
      ]
    },
    {
      "cell_type": "code",
      "execution_count": 8,
      "id": "fcbd3f5c",
      "metadata": {
        "colab": {
          "base_uri": "https://localhost:8080/"
        },
        "id": "fcbd3f5c",
        "outputId": "a790346d-17a1-407e-fccb-148616b605f5"
      },
      "outputs": [
        {
          "data": {
            "text/plain": [
              "(153164, 2)"
            ]
          },
          "execution_count": 8,
          "metadata": {},
          "output_type": "execute_result"
        }
      ],
      "source": [
        "#shape of the train and test data\n",
        "df_train.shape\n",
        "df_test.shape"
      ]
    },
    {
      "cell_type": "markdown",
      "id": "da61886c",
      "metadata": {
        "id": "da61886c"
      },
      "source": [
        "1. Data cleaning"
      ]
    },
    {
      "cell_type": "code",
      "execution_count": 9,
      "id": "3a6c55b4",
      "metadata": {
        "colab": {
          "base_uri": "https://localhost:8080/"
        },
        "id": "3a6c55b4",
        "outputId": "4589d4dc-a6ac-4c7e-bc25-ecddd7b75287"
      },
      "outputs": [
        {
          "name": "stdout",
          "output_type": "stream",
          "text": [
            "<class 'pandas.core.frame.DataFrame'>\n",
            "RangeIndex: 159571 entries, 0 to 159570\n",
            "Data columns (total 8 columns):\n",
            " #   Column         Non-Null Count   Dtype \n",
            "---  ------         --------------   ----- \n",
            " 0   id             159571 non-null  object\n",
            " 1   comment_text   159571 non-null  object\n",
            " 2   toxic          159571 non-null  int64 \n",
            " 3   severe_toxic   159571 non-null  int64 \n",
            " 4   obscene        159571 non-null  int64 \n",
            " 5   threat         159571 non-null  int64 \n",
            " 6   insult         159571 non-null  int64 \n",
            " 7   identity_hate  159571 non-null  int64 \n",
            "dtypes: int64(6), object(2)\n",
            "memory usage: 9.7+ MB\n"
          ]
        }
      ],
      "source": [
        "df_train.info()"
      ]
    },
    {
      "cell_type": "code",
      "execution_count": 10,
      "id": "12822bc3",
      "metadata": {
        "colab": {
          "base_uri": "https://localhost:8080/",
          "height": 335
        },
        "id": "12822bc3",
        "outputId": "532147dd-c80e-4711-ea17-a8508469ce8e"
      },
      "outputs": [
        {
          "data": {
            "text/plain": [
              "id               0\n",
              "comment_text     0\n",
              "toxic            0\n",
              "severe_toxic     0\n",
              "obscene          0\n",
              "threat           0\n",
              "insult           0\n",
              "identity_hate    0\n",
              "dtype: int64"
            ]
          },
          "execution_count": 10,
          "metadata": {},
          "output_type": "execute_result"
        }
      ],
      "source": [
        "# To verify the null values in the dataset\n",
        "df_train.isna().sum()"
      ]
    },
    {
      "cell_type": "code",
      "execution_count": 11,
      "id": "fda5de58",
      "metadata": {
        "colab": {
          "base_uri": "https://localhost:8080/"
        },
        "id": "fda5de58",
        "outputId": "96601782-a722-4402-a67f-6af8c1e6d138"
      },
      "outputs": [
        {
          "data": {
            "text/plain": [
              "np.int64(0)"
            ]
          },
          "execution_count": 11,
          "metadata": {},
          "output_type": "execute_result"
        }
      ],
      "source": [
        "# To verify duplicate values in the dataset\n",
        "\n",
        "df_train.duplicated().sum()"
      ]
    },
    {
      "cell_type": "code",
      "execution_count": 12,
      "id": "45c64540",
      "metadata": {
        "id": "45c64540"
      },
      "outputs": [],
      "source": [
        "# To remove the id column from the train and test data\n",
        "df_train.drop(['id'], axis=1, inplace=True)\n",
        "#df_test.drop(['id'], axis=1, inplace=True)"
      ]
    },
    {
      "cell_type": "code",
      "execution_count": 13,
      "id": "797ab1b7",
      "metadata": {
        "colab": {
          "base_uri": "https://localhost:8080/",
          "height": 423
        },
        "id": "797ab1b7",
        "outputId": "7fe40d9c-2d78-47e2-c320-8e81e4f11950"
      },
      "outputs": [
        {
          "data": {
            "text/html": [
              "<div>\n",
              "<style scoped>\n",
              "    .dataframe tbody tr th:only-of-type {\n",
              "        vertical-align: middle;\n",
              "    }\n",
              "\n",
              "    .dataframe tbody tr th {\n",
              "        vertical-align: top;\n",
              "    }\n",
              "\n",
              "    .dataframe thead th {\n",
              "        text-align: right;\n",
              "    }\n",
              "</style>\n",
              "<table border=\"1\" class=\"dataframe\">\n",
              "  <thead>\n",
              "    <tr style=\"text-align: right;\">\n",
              "      <th></th>\n",
              "      <th>id</th>\n",
              "      <th>comment_text</th>\n",
              "    </tr>\n",
              "  </thead>\n",
              "  <tbody>\n",
              "    <tr>\n",
              "      <th>0</th>\n",
              "      <td>00001cee341fdb12</td>\n",
              "      <td>Yo bitch Ja Rule is more succesful then you'll...</td>\n",
              "    </tr>\n",
              "    <tr>\n",
              "      <th>1</th>\n",
              "      <td>0000247867823ef7</td>\n",
              "      <td>== From RfC == \\n\\n The title is fine as it is...</td>\n",
              "    </tr>\n",
              "    <tr>\n",
              "      <th>2</th>\n",
              "      <td>00013b17ad220c46</td>\n",
              "      <td>\" \\n\\n == Sources == \\n\\n * Zawe Ashton on Lap...</td>\n",
              "    </tr>\n",
              "    <tr>\n",
              "      <th>3</th>\n",
              "      <td>00017563c3f7919a</td>\n",
              "      <td>:If you have a look back at the source, the in...</td>\n",
              "    </tr>\n",
              "    <tr>\n",
              "      <th>4</th>\n",
              "      <td>00017695ad8997eb</td>\n",
              "      <td>I don't anonymously edit articles at all.</td>\n",
              "    </tr>\n",
              "    <tr>\n",
              "      <th>...</th>\n",
              "      <td>...</td>\n",
              "      <td>...</td>\n",
              "    </tr>\n",
              "    <tr>\n",
              "      <th>153159</th>\n",
              "      <td>fffcd0960ee309b5</td>\n",
              "      <td>. \\n i totally agree, this stuff is nothing bu...</td>\n",
              "    </tr>\n",
              "    <tr>\n",
              "      <th>153160</th>\n",
              "      <td>fffd7a9a6eb32c16</td>\n",
              "      <td>== Throw from out field to home plate. == \\n\\n...</td>\n",
              "    </tr>\n",
              "    <tr>\n",
              "      <th>153161</th>\n",
              "      <td>fffda9e8d6fafa9e</td>\n",
              "      <td>\" \\n\\n == Okinotorishima categories == \\n\\n I ...</td>\n",
              "    </tr>\n",
              "    <tr>\n",
              "      <th>153162</th>\n",
              "      <td>fffe8f1340a79fc2</td>\n",
              "      <td>\" \\n\\n == \"\"One of the founding nations of the...</td>\n",
              "    </tr>\n",
              "    <tr>\n",
              "      <th>153163</th>\n",
              "      <td>ffffce3fb183ee80</td>\n",
              "      <td>\" \\n :::Stop already. Your bullshit is not wel...</td>\n",
              "    </tr>\n",
              "  </tbody>\n",
              "</table>\n",
              "<p>153164 rows × 2 columns</p>\n",
              "</div>"
            ],
            "text/plain": [
              "                      id                                       comment_text\n",
              "0       00001cee341fdb12  Yo bitch Ja Rule is more succesful then you'll...\n",
              "1       0000247867823ef7  == From RfC == \\n\\n The title is fine as it is...\n",
              "2       00013b17ad220c46  \" \\n\\n == Sources == \\n\\n * Zawe Ashton on Lap...\n",
              "3       00017563c3f7919a  :If you have a look back at the source, the in...\n",
              "4       00017695ad8997eb          I don't anonymously edit articles at all.\n",
              "...                  ...                                                ...\n",
              "153159  fffcd0960ee309b5  . \\n i totally agree, this stuff is nothing bu...\n",
              "153160  fffd7a9a6eb32c16  == Throw from out field to home plate. == \\n\\n...\n",
              "153161  fffda9e8d6fafa9e  \" \\n\\n == Okinotorishima categories == \\n\\n I ...\n",
              "153162  fffe8f1340a79fc2  \" \\n\\n == \"\"One of the founding nations of the...\n",
              "153163  ffffce3fb183ee80  \" \\n :::Stop already. Your bullshit is not wel...\n",
              "\n",
              "[153164 rows x 2 columns]"
            ]
          },
          "execution_count": 13,
          "metadata": {},
          "output_type": "execute_result"
        }
      ],
      "source": [
        "\n",
        "\n",
        "df_test"
      ]
    },
    {
      "cell_type": "code",
      "execution_count": 14,
      "id": "c2d3aecd",
      "metadata": {
        "colab": {
          "base_uri": "https://localhost:8080/",
          "height": 825
        },
        "id": "c2d3aecd",
        "outputId": "e77d4c76-f363-4136-8898-0dd63c4d3fb4"
      },
      "outputs": [
        {
          "data": {
            "text/html": [
              "<div>\n",
              "<style scoped>\n",
              "    .dataframe tbody tr th:only-of-type {\n",
              "        vertical-align: middle;\n",
              "    }\n",
              "\n",
              "    .dataframe tbody tr th {\n",
              "        vertical-align: top;\n",
              "    }\n",
              "\n",
              "    .dataframe thead th {\n",
              "        text-align: right;\n",
              "    }\n",
              "</style>\n",
              "<table border=\"1\" class=\"dataframe\">\n",
              "  <thead>\n",
              "    <tr style=\"text-align: right;\">\n",
              "      <th></th>\n",
              "      <th>comment_text</th>\n",
              "      <th>toxic</th>\n",
              "      <th>severe_toxic</th>\n",
              "      <th>obscene</th>\n",
              "      <th>threat</th>\n",
              "      <th>insult</th>\n",
              "      <th>identity_hate</th>\n",
              "    </tr>\n",
              "  </thead>\n",
              "  <tbody>\n",
              "    <tr>\n",
              "      <th>0</th>\n",
              "      <td>Explanation\\nWhy the edits made under my usern...</td>\n",
              "      <td>0</td>\n",
              "      <td>0</td>\n",
              "      <td>0</td>\n",
              "      <td>0</td>\n",
              "      <td>0</td>\n",
              "      <td>0</td>\n",
              "    </tr>\n",
              "    <tr>\n",
              "      <th>1</th>\n",
              "      <td>D'aww! He matches this background colour I'm s...</td>\n",
              "      <td>0</td>\n",
              "      <td>0</td>\n",
              "      <td>0</td>\n",
              "      <td>0</td>\n",
              "      <td>0</td>\n",
              "      <td>0</td>\n",
              "    </tr>\n",
              "    <tr>\n",
              "      <th>2</th>\n",
              "      <td>Hey man, I'm really not trying to edit war. It...</td>\n",
              "      <td>0</td>\n",
              "      <td>0</td>\n",
              "      <td>0</td>\n",
              "      <td>0</td>\n",
              "      <td>0</td>\n",
              "      <td>0</td>\n",
              "    </tr>\n",
              "    <tr>\n",
              "      <th>3</th>\n",
              "      <td>\"\\nMore\\nI can't make any real suggestions on ...</td>\n",
              "      <td>0</td>\n",
              "      <td>0</td>\n",
              "      <td>0</td>\n",
              "      <td>0</td>\n",
              "      <td>0</td>\n",
              "      <td>0</td>\n",
              "    </tr>\n",
              "    <tr>\n",
              "      <th>4</th>\n",
              "      <td>You, sir, are my hero. Any chance you remember...</td>\n",
              "      <td>0</td>\n",
              "      <td>0</td>\n",
              "      <td>0</td>\n",
              "      <td>0</td>\n",
              "      <td>0</td>\n",
              "      <td>0</td>\n",
              "    </tr>\n",
              "    <tr>\n",
              "      <th>...</th>\n",
              "      <td>...</td>\n",
              "      <td>...</td>\n",
              "      <td>...</td>\n",
              "      <td>...</td>\n",
              "      <td>...</td>\n",
              "      <td>...</td>\n",
              "      <td>...</td>\n",
              "    </tr>\n",
              "    <tr>\n",
              "      <th>159566</th>\n",
              "      <td>\":::::And for the second time of asking, when ...</td>\n",
              "      <td>0</td>\n",
              "      <td>0</td>\n",
              "      <td>0</td>\n",
              "      <td>0</td>\n",
              "      <td>0</td>\n",
              "      <td>0</td>\n",
              "    </tr>\n",
              "    <tr>\n",
              "      <th>159567</th>\n",
              "      <td>You should be ashamed of yourself \\n\\nThat is ...</td>\n",
              "      <td>0</td>\n",
              "      <td>0</td>\n",
              "      <td>0</td>\n",
              "      <td>0</td>\n",
              "      <td>0</td>\n",
              "      <td>0</td>\n",
              "    </tr>\n",
              "    <tr>\n",
              "      <th>159568</th>\n",
              "      <td>Spitzer \\n\\nUmm, theres no actual article for ...</td>\n",
              "      <td>0</td>\n",
              "      <td>0</td>\n",
              "      <td>0</td>\n",
              "      <td>0</td>\n",
              "      <td>0</td>\n",
              "      <td>0</td>\n",
              "    </tr>\n",
              "    <tr>\n",
              "      <th>159569</th>\n",
              "      <td>And it looks like it was actually you who put ...</td>\n",
              "      <td>0</td>\n",
              "      <td>0</td>\n",
              "      <td>0</td>\n",
              "      <td>0</td>\n",
              "      <td>0</td>\n",
              "      <td>0</td>\n",
              "    </tr>\n",
              "    <tr>\n",
              "      <th>159570</th>\n",
              "      <td>\"\\nAnd ... I really don't think you understand...</td>\n",
              "      <td>0</td>\n",
              "      <td>0</td>\n",
              "      <td>0</td>\n",
              "      <td>0</td>\n",
              "      <td>0</td>\n",
              "      <td>0</td>\n",
              "    </tr>\n",
              "  </tbody>\n",
              "</table>\n",
              "<p>159571 rows × 7 columns</p>\n",
              "</div>"
            ],
            "text/plain": [
              "                                             comment_text  toxic  \\\n",
              "0       Explanation\\nWhy the edits made under my usern...      0   \n",
              "1       D'aww! He matches this background colour I'm s...      0   \n",
              "2       Hey man, I'm really not trying to edit war. It...      0   \n",
              "3       \"\\nMore\\nI can't make any real suggestions on ...      0   \n",
              "4       You, sir, are my hero. Any chance you remember...      0   \n",
              "...                                                   ...    ...   \n",
              "159566  \":::::And for the second time of asking, when ...      0   \n",
              "159567  You should be ashamed of yourself \\n\\nThat is ...      0   \n",
              "159568  Spitzer \\n\\nUmm, theres no actual article for ...      0   \n",
              "159569  And it looks like it was actually you who put ...      0   \n",
              "159570  \"\\nAnd ... I really don't think you understand...      0   \n",
              "\n",
              "        severe_toxic  obscene  threat  insult  identity_hate  \n",
              "0                  0        0       0       0              0  \n",
              "1                  0        0       0       0              0  \n",
              "2                  0        0       0       0              0  \n",
              "3                  0        0       0       0              0  \n",
              "4                  0        0       0       0              0  \n",
              "...              ...      ...     ...     ...            ...  \n",
              "159566             0        0       0       0              0  \n",
              "159567             0        0       0       0              0  \n",
              "159568             0        0       0       0              0  \n",
              "159569             0        0       0       0              0  \n",
              "159570             0        0       0       0              0  \n",
              "\n",
              "[159571 rows x 7 columns]"
            ]
          },
          "execution_count": 14,
          "metadata": {},
          "output_type": "execute_result"
        }
      ],
      "source": [
        "df_train"
      ]
    },
    {
      "cell_type": "markdown",
      "id": "8f8ca3dd",
      "metadata": {
        "id": "8f8ca3dd"
      },
      "source": [
        "2.EDA"
      ]
    },
    {
      "cell_type": "code",
      "execution_count": 15,
      "id": "e603081b",
      "metadata": {
        "colab": {
          "base_uri": "https://localhost:8080/",
          "height": 564
        },
        "id": "e603081b",
        "outputId": "ebc8c220-8702-4676-e271-c6c802a8cea2"
      },
      "outputs": [
        {
          "data": {
            "image/png": "[encoded data removed]",
            "text/plain": [
              "<Figure size 600x600 with 1 Axes>"
            ]
          },
          "metadata": {},
          "output_type": "display_data"
        }
      ],
      "source": [
        "#Comment length and its histogram plot\n",
        "df_train['comment_text'].str.len()\n",
        "plt.figure(figsize=(6, 6))\n",
        "sns.histplot(df_train['comment_text'].str.len(), bins=50, kde=True)\n",
        "plt.title('Comment Length Distribution')\n",
        "plt.xlabel('Comment Length')\n",
        "plt.ylabel('Frequency')\n",
        "plt.show()"
      ]
    },
    {
      "cell_type": "markdown",
      "id": "94ef4404",
      "metadata": {
        "id": "94ef4404"
      },
      "source": [
        " Comment Length Distribution\n",
        "\n",
        "X-axis (Comment Length): Ranges from 0 to about 6000 characters.\n",
        "\n",
        "Y-axis (Frequency): Peaks over 50,000 at the lowest lengths.\n",
        "\n",
        "The distribution is right-skewed:\n",
        "\n",
        "Most comments are very short (under 500 characters).\n",
        "\n",
        "The frequency drops steeply as comment length increases.\n",
        "\n",
        "A long tail indicates the presence of much longer comments, but these are rare."
      ]
    },
    {
      "cell_type": "code",
      "execution_count": 16,
      "id": "b6df40c4",
      "metadata": {
        "colab": {
          "base_uri": "https://localhost:8080/",
          "height": 530
        },
        "id": "b6df40c4",
        "outputId": "ea2966e8-9f3c-4075-b705-ca85195f821e"
      },
      "outputs": [
        {
          "data": {
            "image/png": "[encoded data removed]",
            "text/plain": [
              "<Figure size 640x480 with 2 Axes>"
            ]
          },
          "metadata": {},
          "output_type": "display_data"
        }
      ],
      "source": [
        "# correlation matrix\n",
        "\n",
        "data = df_train.drop(['comment_text'], axis=1)\n",
        "sns.heatmap(data.corr(), annot=True, cmap='coolwarm', fmt='.2f')\n",
        "plt.title('Correlation Matrix')\n",
        "plt.show()"
      ]
    },
    {
      "cell_type": "markdown",
      "id": "4225dff5",
      "metadata": {
        "id": "4225dff5"
      },
      "source": [
        "toxic & insult\t0.65\tStrong positive correlation. Comments labeled as \"toxic\" are often also marked as \"insult\".\n",
        "\n",
        "toxic & obscene\t0.68\tStrong positive correlation. Obscene language is commonly part of toxic comments.\n",
        "\n",
        "toxic & severe_toxic\t0.31\tModerate correlation. Not all toxic comments are considered severely toxic.\n",
        "\n",
        "toxic & threat\t0.16\tWeak correlation. Most toxic comments are not threats.\n",
        "\n",
        "toxic & identity_hate\t0.27\tWeak to moderate correlation. Some overlap exists but not strong.\n",
        "\n",
        " obscene & insult | 0.74 | Very strong correlation. Obscene comments are usually also insulting. |\n",
        "\n",
        "| obscene & severe_toxic | 0.40 | Moderate correlation. Severe toxicity may often include obscene words. |\n",
        "\n",
        "| severe_toxic & threat | 0.12 | Weak. Severe toxicity doesn't necessarily imply threats. |\n",
        "\n",
        "| threat & any other label | ~0.12 - 0.16 | Consistently low correlations. Threats are a more distinct category. |\n",
        "\n",
        "| identity_hate & others | Mostly ~0.20 - 0.34 | Weak to moderate. Some overlap but less predictable co-occurrence. |"
      ]
    },
    {
      "cell_type": "code",
      "execution_count": 27,
      "id": "f80d4000",
      "metadata": {
        "id": "f80d4000"
      },
      "outputs": [],
      "source": [
        "# Rename the comment_text column to text\n",
        "#df_train.rename(columns={'comment_text': 'text'}, inplace=True)"
      ]
    },
    {
      "cell_type": "code",
      "execution_count": 17,
      "id": "cb658040",
      "metadata": {
        "colab": {
          "base_uri": "https://localhost:8080/",
          "height": 379
        },
        "id": "cb658040",
        "outputId": "e7fe7304-84ed-481d-ba61-082818ad6a8d"
      },
      "outputs": [
        {
          "data": {
            "text/html": [
              "<div>\n",
              "<style scoped>\n",
              "    .dataframe tbody tr th:only-of-type {\n",
              "        vertical-align: middle;\n",
              "    }\n",
              "\n",
              "    .dataframe tbody tr th {\n",
              "        vertical-align: top;\n",
              "    }\n",
              "\n",
              "    .dataframe thead th {\n",
              "        text-align: right;\n",
              "    }\n",
              "</style>\n",
              "<table border=\"1\" class=\"dataframe\">\n",
              "  <thead>\n",
              "    <tr style=\"text-align: right;\">\n",
              "      <th></th>\n",
              "      <th>comment_text</th>\n",
              "      <th>toxic</th>\n",
              "      <th>severe_toxic</th>\n",
              "      <th>obscene</th>\n",
              "      <th>threat</th>\n",
              "      <th>insult</th>\n",
              "      <th>identity_hate</th>\n",
              "    </tr>\n",
              "  </thead>\n",
              "  <tbody>\n",
              "    <tr>\n",
              "      <th>0</th>\n",
              "      <td>Explanation\\nWhy the edits made under my usern...</td>\n",
              "      <td>0</td>\n",
              "      <td>0</td>\n",
              "      <td>0</td>\n",
              "      <td>0</td>\n",
              "      <td>0</td>\n",
              "      <td>0</td>\n",
              "    </tr>\n",
              "    <tr>\n",
              "      <th>1</th>\n",
              "      <td>D'aww! He matches this background colour I'm s...</td>\n",
              "      <td>0</td>\n",
              "      <td>0</td>\n",
              "      <td>0</td>\n",
              "      <td>0</td>\n",
              "      <td>0</td>\n",
              "      <td>0</td>\n",
              "    </tr>\n",
              "    <tr>\n",
              "      <th>2</th>\n",
              "      <td>Hey man, I'm really not trying to edit war. It...</td>\n",
              "      <td>0</td>\n",
              "      <td>0</td>\n",
              "      <td>0</td>\n",
              "      <td>0</td>\n",
              "      <td>0</td>\n",
              "      <td>0</td>\n",
              "    </tr>\n",
              "    <tr>\n",
              "      <th>3</th>\n",
              "      <td>\"\\nMore\\nI can't make any real suggestions on ...</td>\n",
              "      <td>0</td>\n",
              "      <td>0</td>\n",
              "      <td>0</td>\n",
              "      <td>0</td>\n",
              "      <td>0</td>\n",
              "      <td>0</td>\n",
              "    </tr>\n",
              "    <tr>\n",
              "      <th>4</th>\n",
              "      <td>You, sir, are my hero. Any chance you remember...</td>\n",
              "      <td>0</td>\n",
              "      <td>0</td>\n",
              "      <td>0</td>\n",
              "      <td>0</td>\n",
              "      <td>0</td>\n",
              "      <td>0</td>\n",
              "    </tr>\n",
              "  </tbody>\n",
              "</table>\n",
              "</div>"
            ],
            "text/plain": [
              "                                        comment_text  toxic  severe_toxic  \\\n",
              "0  Explanation\\nWhy the edits made under my usern...      0             0   \n",
              "1  D'aww! He matches this background colour I'm s...      0             0   \n",
              "2  Hey man, I'm really not trying to edit war. It...      0             0   \n",
              "3  \"\\nMore\\nI can't make any real suggestions on ...      0             0   \n",
              "4  You, sir, are my hero. Any chance you remember...      0             0   \n",
              "\n",
              "   obscene  threat  insult  identity_hate  \n",
              "0        0       0       0              0  \n",
              "1        0       0       0              0  \n",
              "2        0       0       0              0  \n",
              "3        0       0       0              0  \n",
              "4        0       0       0              0  "
            ]
          },
          "execution_count": 17,
          "metadata": {},
          "output_type": "execute_result"
        }
      ],
      "source": [
        "df_train.head()"
      ]
    },
    {
      "cell_type": "code",
      "execution_count": 18,
      "id": "a09c8f94",
      "metadata": {
        "id": "a09c8f94"
      },
      "outputs": [],
      "source": [
        "#define target features\n",
        "\n",
        "target_features = ['toxic', 'severe_toxic', 'obscene', 'threat', 'insult', 'identity_hate']"
      ]
    },
    {
      "cell_type": "code",
      "execution_count": 19,
      "id": "54d2400e",
      "metadata": {
        "colab": {
          "base_uri": "https://localhost:8080/"
        },
        "id": "54d2400e",
        "outputId": "9aae6fb2-0f44-4a01-f93f-2ed9fe6831be"
      },
      "outputs": [
        {
          "name": "stdout",
          "output_type": "stream",
          "text": [
            " Feature distribution in the training data:\n",
            "               Count  Percentage\n",
            "toxic          15294    9.584448\n",
            "severe_toxic    1595    0.999555\n",
            "obscene         8449    5.294822\n",
            "threat           478    0.299553\n",
            "insult          7877    4.936361\n",
            "identity_hate   1405    0.880486\n"
          ]
        }
      ],
      "source": [
        "# calculate the feature counts and percentages\n",
        "\n",
        "feature_counts = df_train[target_features].sum()\n",
        "feature_precentages= (feature_counts / len(df_train)) * 100\n",
        "\n",
        "# Create a DataFrame for the feature counts and percentages\n",
        "feature_df = pd.DataFrame({\n",
        "    'Count': feature_counts,\n",
        "    'Percentage': feature_precentages\n",
        "})\n",
        "print(\" Feature distribution in the training data:\")\n",
        "print(feature_df)\n",
        "\n"
      ]
    },
    {
      "cell_type": "code",
      "execution_count": 20,
      "id": "83c40291",
      "metadata": {
        "colab": {
          "base_uri": "https://localhost:8080/",
          "height": 532
        },
        "id": "83c40291",
        "outputId": "e691f39d-0b25-485c-a6f4-6ca6e62a9edd"
      },
      "outputs": [
        {
          "data": {
            "image/png": "[encoded data removed]",
            "text/plain": [
              "<Figure size 640x480 with 1 Axes>"
            ]
          },
          "metadata": {},
          "output_type": "display_data"
        }
      ],
      "source": [
        "# Plotting the feature distribution\n",
        "\n",
        "sns.barplot(x=feature_df.index.values, y='Count',data= feature_df)\n",
        "plt.title('Feature Distribution in Training Data')\n",
        "plt.ylabel('Number of comments')\n",
        "plt.xlabel('Features')\n",
        "plt.xticks(rotation=45)\n",
        "plt.show()"
      ]
    },
    {
      "cell_type": "code",
      "execution_count": 21,
      "id": "f0c8ff2a",
      "metadata": {
        "colab": {
          "base_uri": "https://localhost:8080/"
        },
        "id": "f0c8ff2a",
        "outputId": "eb28f305-93e2-44e9-f207-02aa0c3cd63c"
      },
      "outputs": [
        {
          "name": "stdout",
          "output_type": "stream",
          "text": [
            "\n",
            " Number of non-toxic comments: 143346\n"
          ]
        }
      ],
      "source": [
        "#Check for comments with no toxic features\n",
        "\n",
        "non_toxic_comments = df_train[df_train[target_features].sum(axis=1) == 0]\n",
        "print(f\"\\n Number of non-toxic comments: {len(non_toxic_comments)}\")\n",
        "\n"
      ]
    },
    {
      "cell_type": "code",
      "execution_count": 22,
      "id": "5c3d113d",
      "metadata": {
        "colab": {
          "base_uri": "https://localhost:8080/"
        },
        "id": "5c3d113d",
        "outputId": "6152c35b-cd10-4382-9c39-01e95929bf3c"
      },
      "outputs": [
        {
          "name": "stdout",
          "output_type": "stream",
          "text": [
            "\n",
            " Number of toxic comments: 16225\n"
          ]
        }
      ],
      "source": [
        "# toxic comments\n",
        "toxic_comments1 = df_train[df_train[target_features].sum(axis=1) > 0]\n",
        "print(f\"\\n Number of toxic comments: {len(toxic_comments1)}\")"
      ]
    },
    {
      "cell_type": "code",
      "execution_count": 23,
      "id": "87daaf15",
      "metadata": {
        "colab": {
          "base_uri": "https://localhost:8080/",
          "height": 374
        },
        "id": "87daaf15",
        "outputId": "8490d101-33fb-456b-a013-4da776c9924b"
      },
      "outputs": [
        {
          "data": {
            "image/png": "[encoded data removed]",
            "text/plain": [
              "<Figure size 1000x500 with 1 Axes>"
            ]
          },
          "metadata": {},
          "output_type": "display_data"
        }
      ],
      "source": [
        "# plot non_toxic_comments and toxic comments before training the model\n",
        "\n",
        "plt.figure(figsize=(10, 5))\n",
        "plt.bar(['Non-Toxic Comments', 'Toxic Comments'], [len(non_toxic_comments), len(toxic_comments1)], color=['green', 'red'])\n",
        "plt.title('Number of Non-Toxic and Toxic Comments')\n",
        "plt.ylabel('Number of Comments')\n",
        "plt.xlabel('Comment Type')\n",
        "plt.show()"
      ]
    },
    {
      "cell_type": "markdown",
      "id": "446fa6f3",
      "metadata": {
        "id": "446fa6f3"
      },
      "source": [
        "BERT\n",
        "\n",
        "BERT (Bidirectional Encoder Representations from Transformers) is a powerful language representation model developed by Google in 2018.\n",
        "\n",
        "It's based on the Transformer architecture, and it's designed to understand the context of a word bidirectionally — meaning it looks at both the left and right context in a sentence.\n",
        "\n",
        "🔍 Key Features of BERT:\n",
        "\n",
        "Bidirectional context:\n",
        "\n",
        "Unlike previous models that read text left-to-right or right-to-left, BERT reads in both directions simultaneously.\n",
        "\n",
        "Pre-trained and fine-tuned:\n",
        "\n",
        " BERT is pre-trained on a large corpus (like Wikipedia), then fine-tuned for specific tasks (e.g., sentiment analysis, question answering).\n",
        "\n",
        "Transformer-based:\n",
        "\n",
        "Built using the encoder part of the Transformer architecture, allowing it to handle long-range dependencies in text.\n",
        "\n",
        "🧠 How BERT Works:\n",
        "\n",
        "Pre-training tasks:\n",
        "\n",
        "Masked Language Modeling (MLM):\n",
        "\n",
        "Randomly masks words in the input and trains the model to predict them.\n",
        "\n",
        "Next Sentence Prediction (NSP):\n",
        "\n",
        "Trains the model to predict if one sentence follows another in context.\n",
        "\n",
        "Fine-tuning:\n",
        "\n",
        "After pre-training, BERT is adapted to specific tasks like classification, named entity recognition, or QA with a relatively small dataset."
      ]
    },
    {
      "cell_type": "markdown",
      "id": "35f2074c",
      "metadata": {
        "id": "35f2074c"
      },
      "source": [
        "3.Preprocessing and Tokenization ( BERT)"
      ]
    },
    {
      "cell_type": "markdown",
      "id": "2b764443",
      "metadata": {
        "id": "2b764443"
      },
      "source": [
        "3.1 Text Cleaning\n",
        "\n",
        "Text Cleaning for BERT Input\n",
        "Before feeding text into a BERT model (like bert-base-uncased), minimal preprocessing is usually needed because BERT uses WordPiece tokenization and is designed to handle \"messy\" real-world text. Here's what you typically need:\n",
        "\n",
        "✅ Recommended Text Cleaning for BERT:\n",
        "Lowercasing (if using uncased models like bert-base-uncased)\n",
        "\n",
        "Remove excessive whitespace\n",
        "\n",
        "Replace HTML entities (&amp;, &lt;, etc.)\n",
        "\n",
        "Normalize unicode (e.g., unicodedata.normalize)\n",
        "\n",
        "Optionally: remove URLs/emails if irrelevant\n",
        "\n",
        "❌ Do Not:\n",
        "Do not remove stop words (they’re important for context)\n",
        "\n",
        "Do not stem or lemmatize (BERT is subword-based)\n",
        "\n",
        "Do not aggressively strip punctuation\n",
        "\n"
      ]
    },
    {
      "cell_type": "code",
      "execution_count": 24,
      "id": "6afa2b1b",
      "metadata": {
        "colab": {
          "base_uri": "https://localhost:8080/"
        },
        "id": "6afa2b1b",
        "outputId": "6e5efad5-52a4-45bf-9e07-035e7ea8a48b"
      },
      "outputs": [
        {
          "data": {
            "text/plain": [
              "(159571, 7)"
            ]
          },
          "execution_count": 24,
          "metadata": {},
          "output_type": "execute_result"
        }
      ],
      "source": [
        "df_train.shape"
      ]
    },
    {
      "cell_type": "code",
      "execution_count": 25,
      "id": "e7839ced",
      "metadata": {
        "id": "e7839ced"
      },
      "outputs": [],
      "source": [
        "df_train = df_train.sample(n=10000, random_state=42)\n"
      ]
    },
    {
      "cell_type": "code",
      "execution_count": 26,
      "id": "ad9400b2",
      "metadata": {
        "id": "ad9400b2"
      },
      "outputs": [],
      "source": [
        "df_test = df_test.sample(n=10000, random_state=42)\n"
      ]
    },
    {
      "cell_type": "code",
      "execution_count": 27,
      "id": "f08c013c",
      "metadata": {
        "id": "f08c013c"
      },
      "outputs": [],
      "source": [
        "# 3.1 Text Cleaning (BERT)\n",
        "\n",
        "def clean_text(text):\n",
        "\n",
        "    text = str(text)  # Ensure text is a string\n",
        "    text = re.sub(r'@\\w+', '', text)  # Remove mentions\n",
        "    text = re.sub(r'\\s+', '', text).strip() # Remove mentions (To remove white spaces)\n",
        "    text = re.sub(r'http\\S+|www\\S+|https\\S+', '', text, flags=re.MULTILINE)  # Remove URLs\n",
        "\n",
        "    return text\n",
        "df_train['comment_text_cleaned'] = df_train['comment_text'].apply(clean_text)\n",
        "df_test['comment_text_cleaned'] = df_test['comment_text'].apply(clean_text)\n",
        "\n",
        "\n"
      ]
    },
    {
      "cell_type": "code",
      "execution_count": 28,
      "id": "c10f6ec2",
      "metadata": {
        "colab": {
          "base_uri": "https://localhost:8080/",
          "height": 981
        },
        "id": "c10f6ec2",
        "outputId": "9907041b-969e-4e0d-e129-53bdc6508634"
      },
      "outputs": [
        {
          "data": {
            "text/html": [
              "<div>\n",
              "<style scoped>\n",
              "    .dataframe tbody tr th:only-of-type {\n",
              "        vertical-align: middle;\n",
              "    }\n",
              "\n",
              "    .dataframe tbody tr th {\n",
              "        vertical-align: top;\n",
              "    }\n",
              "\n",
              "    .dataframe thead th {\n",
              "        text-align: right;\n",
              "    }\n",
              "</style>\n",
              "<table border=\"1\" class=\"dataframe\">\n",
              "  <thead>\n",
              "    <tr style=\"text-align: right;\">\n",
              "      <th></th>\n",
              "      <th>comment_text</th>\n",
              "      <th>toxic</th>\n",
              "      <th>severe_toxic</th>\n",
              "      <th>obscene</th>\n",
              "      <th>threat</th>\n",
              "      <th>insult</th>\n",
              "      <th>identity_hate</th>\n",
              "      <th>comment_text_cleaned</th>\n",
              "    </tr>\n",
              "  </thead>\n",
              "  <tbody>\n",
              "    <tr>\n",
              "      <th>119105</th>\n",
              "      <td>Geez, are you forgetful!  We've already discus...</td>\n",
              "      <td>0</td>\n",
              "      <td>0</td>\n",
              "      <td>0</td>\n",
              "      <td>0</td>\n",
              "      <td>0</td>\n",
              "      <td>0</td>\n",
              "      <td>Geez,areyouforgetful!We'vealreadydiscussedwhyM...</td>\n",
              "    </tr>\n",
              "    <tr>\n",
              "      <th>131631</th>\n",
              "      <td>Carioca RFA \\n\\nThanks for your support on my ...</td>\n",
              "      <td>0</td>\n",
              "      <td>0</td>\n",
              "      <td>0</td>\n",
              "      <td>0</td>\n",
              "      <td>0</td>\n",
              "      <td>0</td>\n",
              "      <td>CariocaRFAThanksforyoursupportonmyrequestforad...</td>\n",
              "    </tr>\n",
              "    <tr>\n",
              "      <th>125326</th>\n",
              "      <td>\"\\n\\n Birthday \\n\\nNo worries, It's what I do ...</td>\n",
              "      <td>0</td>\n",
              "      <td>0</td>\n",
              "      <td>0</td>\n",
              "      <td>0</td>\n",
              "      <td>0</td>\n",
              "      <td>0</td>\n",
              "      <td>\"BirthdayNoworries,It'swhatIdo;)Enjoyurday|tal...</td>\n",
              "    </tr>\n",
              "    <tr>\n",
              "      <th>111256</th>\n",
              "      <td>Pseudoscience category? \\n\\nI'm assuming that ...</td>\n",
              "      <td>0</td>\n",
              "      <td>0</td>\n",
              "      <td>0</td>\n",
              "      <td>0</td>\n",
              "      <td>0</td>\n",
              "      <td>0</td>\n",
              "      <td>Pseudosciencecategory?I'massumingthatthisartic...</td>\n",
              "    </tr>\n",
              "    <tr>\n",
              "      <th>83590</th>\n",
              "      <td>(and if such phrase exists, it would be provid...</td>\n",
              "      <td>0</td>\n",
              "      <td>0</td>\n",
              "      <td>0</td>\n",
              "      <td>0</td>\n",
              "      <td>0</td>\n",
              "      <td>0</td>\n",
              "      <td>(andifsuchphraseexists,itwouldbeprovidedbysear...</td>\n",
              "    </tr>\n",
              "    <tr>\n",
              "      <th>...</th>\n",
              "      <td>...</td>\n",
              "      <td>...</td>\n",
              "      <td>...</td>\n",
              "      <td>...</td>\n",
              "      <td>...</td>\n",
              "      <td>...</td>\n",
              "      <td>...</td>\n",
              "      <td>...</td>\n",
              "    </tr>\n",
              "    <tr>\n",
              "      <th>25725</th>\n",
              "      <td>Sam, get real! No-one's gunner believe all thi...</td>\n",
              "      <td>0</td>\n",
              "      <td>0</td>\n",
              "      <td>0</td>\n",
              "      <td>0</td>\n",
              "      <td>0</td>\n",
              "      <td>0</td>\n",
              "      <td>Sam,getreal!No-one'sgunnerbelieveallthisstuffa...</td>\n",
              "    </tr>\n",
              "    <tr>\n",
              "      <th>46449</th>\n",
              "      <td>Get a life \\n\\nwhy dont you go get a life and ...</td>\n",
              "      <td>1</td>\n",
              "      <td>0</td>\n",
              "      <td>0</td>\n",
              "      <td>0</td>\n",
              "      <td>1</td>\n",
              "      <td>0</td>\n",
              "      <td>Getalifewhydontyougogetalifeandstopeditingarti...</td>\n",
              "    </tr>\n",
              "    <tr>\n",
              "      <th>108844</th>\n",
              "      <td>Nothing a sock puppet(and trust me, I know wha...</td>\n",
              "      <td>0</td>\n",
              "      <td>0</td>\n",
              "      <td>0</td>\n",
              "      <td>0</td>\n",
              "      <td>0</td>\n",
              "      <td>0</td>\n",
              "      <td>Nothingasockpuppet(andtrustme,Iknowwhatitmeans...</td>\n",
              "    </tr>\n",
              "    <tr>\n",
              "      <th>142353</th>\n",
              "      <td>\"\\nThe lead section is a summary of the main p...</td>\n",
              "      <td>0</td>\n",
              "      <td>0</td>\n",
              "      <td>0</td>\n",
              "      <td>0</td>\n",
              "      <td>0</td>\n",
              "      <td>0</td>\n",
              "      <td>\"Theleadsectionisasummaryofthemainpoints,butit...</td>\n",
              "    </tr>\n",
              "    <tr>\n",
              "      <th>143654</th>\n",
              "      <td>New users \\nDear Mike, \\nitÂ´s not good idea t...</td>\n",
              "      <td>0</td>\n",
              "      <td>0</td>\n",
              "      <td>0</td>\n",
              "      <td>0</td>\n",
              "      <td>0</td>\n",
              "      <td>0</td>\n",
              "      <td>NewusersDearMike,itÂ´snotgoodideatoblocknewuse...</td>\n",
              "    </tr>\n",
              "  </tbody>\n",
              "</table>\n",
              "<p>10000 rows × 8 columns</p>\n",
              "</div>"
            ],
            "text/plain": [
              "                                             comment_text  toxic  \\\n",
              "119105  Geez, are you forgetful!  We've already discus...      0   \n",
              "131631  Carioca RFA \\n\\nThanks for your support on my ...      0   \n",
              "125326  \"\\n\\n Birthday \\n\\nNo worries, It's what I do ...      0   \n",
              "111256  Pseudoscience category? \\n\\nI'm assuming that ...      0   \n",
              "83590   (and if such phrase exists, it would be provid...      0   \n",
              "...                                                   ...    ...   \n",
              "25725   Sam, get real! No-one's gunner believe all thi...      0   \n",
              "46449   Get a life \\n\\nwhy dont you go get a life and ...      1   \n",
              "108844  Nothing a sock puppet(and trust me, I know wha...      0   \n",
              "142353  \"\\nThe lead section is a summary of the main p...      0   \n",
              "143654  New users \\nDear Mike, \\nitÂ´s not good idea t...      0   \n",
              "\n",
              "        severe_toxic  obscene  threat  insult  identity_hate  \\\n",
              "119105             0        0       0       0              0   \n",
              "131631             0        0       0       0              0   \n",
              "125326             0        0       0       0              0   \n",
              "111256             0        0       0       0              0   \n",
              "83590              0        0       0       0              0   \n",
              "...              ...      ...     ...     ...            ...   \n",
              "25725              0        0       0       0              0   \n",
              "46449              0        0       0       1              0   \n",
              "108844             0        0       0       0              0   \n",
              "142353             0        0       0       0              0   \n",
              "143654             0        0       0       0              0   \n",
              "\n",
              "                                     comment_text_cleaned  \n",
              "119105  Geez,areyouforgetful!We'vealreadydiscussedwhyM...  \n",
              "131631  CariocaRFAThanksforyoursupportonmyrequestforad...  \n",
              "125326  \"BirthdayNoworries,It'swhatIdo;)Enjoyurday|tal...  \n",
              "111256  Pseudosciencecategory?I'massumingthatthisartic...  \n",
              "83590   (andifsuchphraseexists,itwouldbeprovidedbysear...  \n",
              "...                                                   ...  \n",
              "25725   Sam,getreal!No-one'sgunnerbelieveallthisstuffa...  \n",
              "46449   Getalifewhydontyougogetalifeandstopeditingarti...  \n",
              "108844  Nothingasockpuppet(andtrustme,Iknowwhatitmeans...  \n",
              "142353  \"Theleadsectionisasummaryofthemainpoints,butit...  \n",
              "143654  NewusersDearMike,itÂ´snotgoodideatoblocknewuse...  \n",
              "\n",
              "[10000 rows x 8 columns]"
            ]
          },
          "execution_count": 28,
          "metadata": {},
          "output_type": "execute_result"
        }
      ],
      "source": [
        "df_train"
      ]
    },
    {
      "cell_type": "markdown",
      "id": "03d923ba",
      "metadata": {
        "id": "03d923ba"
      },
      "source": [
        "3.2 Tokenization with BERT tokenizer\n",
        "\n",
        "Tokenization with the BERT tokenizer is a key step in preparing text data for input into BERT models. Here's a concise overview of how it works:\n",
        "\n",
        "🔹 What is Tokenization?\n",
        "\n",
        "Tokenization is the process of splitting text into smaller units called tokens. BERT uses WordPiece tokenization, which breaks words into subword units.\n",
        "\n",
        "🔹 BERT Tokenizer Characteristics\n",
        "\n",
        "Lowercasing (optional): Converts text to lowercase (e.g., \"Hello\" → \"hello\") if using the bert-base-uncased model.\n",
        "\n",
        "WordPiece Tokenizer: Splits unknown or rare words into subwords, prefixed with ## if they're a continuation of a word.\n",
        "\n",
        "Special Tokens:\n",
        "\n",
        "[CLS]: Classification token added at the beginning.\n",
        "\n",
        "[SEP]: Separator token used between sentence pairs or at the end of a single sentence."
      ]
    },
    {
      "cell_type": "code",
      "execution_count": 29,
      "id": "c57b6f4d",
      "metadata": {
        "colab": {
          "base_uri": "https://localhost:8080/",
          "height": 455,
          "referenced_widgets": [
            "e884de8543504de2b4461ba6f4659732",
            "fa6686cbdd734b86acb8a5fe08e07552",
            "a7300415447947f686a7db06538ff998",
            "1ec3993651ab4747a1bdb786e1986596",
            "a59e01f55ee14d9aa4db6702cc6714b9",
            "f4bfa1a12d3644ec8b9a769a9667b714",
            "1d1efaf80e9041819aca7a591ae3a65f",
            "8352007fc391498a949d0363871a2ed2",
            "ba75673329834b2f81f71a49c229ba28",
            "1eed9596d18e4e1293fa52979458e8e7",
            "327c585199d24e62a9bcde8aea17589a",
            "0458a0e9874c47028a7f19dac998d7dd",
            "8d45935c092e478f8f659a2b60c6498a",
            "2d6a82c8ca75488fa09175f6b974d776",
            "04676b939b77415b86887dfd5a2cf180",
            "a9d502f8ab80406a9366cb0a47b3b4ed",
            "84e751d06fc94b258540c153fe21168f",
            "87b6da3bd40e4ac0aabc6262055f183f",
            "c93dfd35c81f493ea9258e30ef88ff8d",
            "6fd35c280876422083dea2c2a5253194",
            "13df0ce4368b4219aff9336d008f7ca6",
            "3ea16aaabd6f4ba2acf54e231659d81e",
            "7e6199677c3845ada7a830a9ae692d10",
            "0fa9e62e599a42f3ab0a47c737880adc",
            "d0af6dc2c3f6402aa10fd701ed74880a",
            "884659621fb54e08868d378ae275de54",
            "eb8fb84605b0456dbd6a16b8df76c0be",
            "7192714acdfb42c49f9cb66036167ede",
            "8138c989f8f242d0875c3d47fe477b52",
            "73128a5bf812428f9a9a7f957887bc11",
            "ccbbb51326f8483d8c99b281514f7d92",
            "394dd5feb7fe499bba2e665212624ed8",
            "330459b2ee7647f6ab8a1967dd286aff",
            "08993d4337174854a6314632ff2584d1",
            "7d7599c49cd1496eabf7a67aa20f286c",
            "9b442aedb22244248125e50975c01b9a",
            "ef38af9507104ead8cf5b6e5622cd59f",
            "fdc08641285a4bd2a0b89d3e04765afd",
            "3dbd18e0289c4baab389b461adc783df",
            "f509bb824f474cbaa4ffa8d83a6cf38d",
            "193a4001b5954707a397dad70d009bb7",
            "dda1251a85a94bc98b7f7019da485891",
            "04f39183b29340588cae05bab574f30b",
            "1f7a77ea3ee244db84cc0f4f8802cde5"
          ]
        },
        "id": "c57b6f4d",
        "outputId": "410dc30a-ed39-437d-f18b-eb66d1de3b16"
      },
      "outputs": [
        {
          "name": "stdout",
          "output_type": "stream",
          "text": [
            "\n",
            "Sample Tokenization:\n",
            "Text: Sample comment for tokenization\n",
            "Tokens: ['[CLS]', 'sample', 'comment', 'for', 'token', '##ization', '[SEP]', '[PAD]', '[PAD]', '[PAD]', '[PAD]', '[PAD]', '[PAD]', '[PAD]', '[PAD]', '[PAD]', '[PAD]', '[PAD]', '[PAD]', '[PAD]', '[PAD]', '[PAD]', '[PAD]', '[PAD]', '[PAD]', '[PAD]', '[PAD]', '[PAD]', '[PAD]', '[PAD]', '[PAD]', '[PAD]', '[PAD]', '[PAD]', '[PAD]']\n",
            "Input IDs: tensor([[  101,  7099,  7615,  2005, 19204,  3989,   102,     0,     0,     0,\n",
            "             0,     0,     0,     0,     0,     0,     0,     0,     0,     0,\n",
            "             0,     0,     0,     0,     0,     0,     0,     0,     0,     0,\n",
            "             0,     0,     0,     0,     0]])\n",
            "Attention Mask: tensor([[1, 1, 1, 1, 1, 1, 1, 0, 0, 0, 0, 0, 0, 0, 0, 0, 0, 0, 0, 0, 0, 0, 0, 0,\n",
            "         0, 0, 0, 0, 0, 0, 0, 0, 0, 0, 0]])\n"
          ]
        }
      ],
      "source": [
        "# 3.2 Tokenization with BERT tokenizer\n",
        "\n",
        "tokenizer = BertTokenizer.from_pretrained('bert-base-uncased')\n",
        "#tokenizer = BertTokenizer.from_pretrained('C:/Users/mosel/.cache/huggingface/hub/models--bert-base-uncased')\n",
        "\n",
        "sample_text =\"Sample comment for tokenization\"\n",
        "\n",
        "encoded_sample = tokenizer.encode_plus(\n",
        "    sample_text,\n",
        "    add_special_tokens=True,\n",
        "    max_length=35,\n",
        "    padding='max_length',\n",
        "    truncation=True,\n",
        "    return_tensors='pt'\n",
        ")\n",
        "\n",
        "\"\"\"def tokenize_text(text):\n",
        "    return tokenizer.encode_plus(\n",
        "        text,\n",
        "        add_special_tokens=True,  # Add [CLS] and [SEP] tokens\n",
        "        max_length=50,  # Maximum length of the sequence\n",
        "        padding='max_length',  # Pad to max_length\n",
        "        truncation=True,  # Truncate if longer than max_length\n",
        "        return_tensors='pt'  # Return PyTorch tensors\n",
        "    )\"\"\"\n",
        "\"\"\"print(\"\\nSample Tokenization:\")\n",
        "print(f\"Text: {sample_text}\")\n",
        "print(f\"Tokens: {tokenizer.tokenize(sample_text)}\")\n",
        "print(f\"Input IDs: {tokenizer.encode(sample_text, add_special_tokens=True)}\")\n",
        "print(f\"Attention Mask: {tokenizer.encode(sample_text, add_special_tokens=True, padding='max_length', truncation=True, max_length=50)}\") # 1 for real tokens, 0 for padding\"\"\"\n",
        "\n",
        "\n",
        "print(\"\\nSample Tokenization:\")\n",
        "print(f\"Text: {sample_text}\")\n",
        "print(f\"Tokens: {tokenizer.convert_ids_to_tokens(encoded_sample['input_ids'][0])}\")\n",
        "print(f\"Input IDs: {encoded_sample['input_ids']}\")\n",
        "print(f\"Attention Mask: {encoded_sample['attention_mask']}\") # 1 for real tokens, 0 for padding\"\"\"\n",
        "\n",
        "\n"
      ]
    },
    {
      "cell_type": "markdown",
      "id": "defe9ce7",
      "metadata": {
        "id": "defe9ce7"
      },
      "source": [
        "3.3 Creating Pytorch Dataset and DataLoader\n",
        "\n",
        "Creating a Dataset and DataLoader in PyTorch is essential for efficiently handling and feeding data into a model during training or evaluation."
      ]
    },
    {
      "cell_type": "code",
      "execution_count": 30,
      "id": "fe01552f",
      "metadata": {
        "colab": {
          "base_uri": "https://localhost:8080/"
        },
        "id": "fe01552f",
        "outputId": "002d3ca3-84d6-46b4-e05d-2bcd88d47be2"
      },
      "outputs": [
        {
          "name": "stdout",
          "output_type": "stream",
          "text": [
            "Training set size: 8000\n",
            "Validation set size: 2000\n",
            "\n",
            " sample batch data:\n",
            "Input IDs: torch.Size([32, 128])\n",
            "Attention Mask: torch.Size([32, 128])\n",
            "Targets: torch.Size([32, 6])\n"
          ]
        }
      ],
      "source": [
        "# 3.3 Creating Pytorch Dataset and DataLoader\n",
        "\n",
        "class ToxicCommentDataset(Dataset):\n",
        "\n",
        "\n",
        "    def __init__(self, comments, targets, tokenizer, max_length):\n",
        "\n",
        "        self.comments = comments\n",
        "        self.targets = targets\n",
        "        self.tokenizer = tokenizer\n",
        "        self.max_length = max_length\n",
        "\n",
        "    def __len__(self):\n",
        "        return len(self.comments)\n",
        "    def __getitem__(self, idx):\n",
        "        comment = self.comments[idx]\n",
        "        target = self.targets[idx]\n",
        "\n",
        "        # Tokenize the comment\n",
        "        encoding = self.tokenizer.encode_plus(\n",
        "            comment,\n",
        "            add_special_tokens=True,\n",
        "            max_length=self.max_length,\n",
        "            padding='max_length',\n",
        "            truncation=True,\n",
        "            return_tensors='pt'\n",
        "        )\n",
        "\n",
        "        # Return the encoded inputs and target\n",
        "        return {\n",
        "            'input_ids': encoding['input_ids'].flatten(),\n",
        "            'attention_mask': encoding['attention_mask'].flatten(),\n",
        "            'attention_mask': encoding['attention_mask'].flatten(),\n",
        "            'targets': torch.tensor(target, dtype=torch.float)\n",
        "        }\n",
        "#3.4 preparing the dataset and dataloader\n",
        "# Define X and y\n",
        "X = df_train['comment_text_cleaned'].values\n",
        "y = df_train[target_features].values\n",
        "\n",
        "# split the data into training and validation sets\n",
        "\n",
        "X_train, X_val, y_train, y_val = train_test_split(X, y, test_size=0.2, random_state=42) # Seed = 42 for reproducibility\n",
        "\n",
        "# Print the Train size and validation size\n",
        "print(f\"Training set size: {len(X_train)}\")\n",
        "print(f\"Validation set size: {len(X_val)}\")\n",
        "\n",
        "# Create the datasets\n",
        "\n",
        "train_dataset = ToxicCommentDataset(X_train, y_train, tokenizer, max_length= 128)# max_length can be adjusted based on the average length of comments\n",
        "val_dataset = ToxicCommentDataset(X_val, y_val, tokenizer, max_length= 128)\n",
        "\n",
        "# Create the DataLoaders\n",
        "\n",
        "train_loader = DataLoader(train_dataset, batch_size=32, shuffle=True)\n",
        "val_loader = DataLoader(val_dataset, batch_size=32, shuffle=False)\n",
        "\n",
        "# Check the first batch of data\n",
        "\n",
        "data = next(iter(train_loader))\n",
        "print(\"\\n sample batch data:\")\n",
        "print(f\"Input IDs: {data['input_ids'].shape}\")\n",
        "print(f\"Attention Mask: {data['attention_mask'].shape}\")\n",
        "print(f\"Targets: {data['targets'].shape}\")\n",
        "\n"
      ]
    },
    {
      "cell_type": "markdown",
      "id": "c22b6710",
      "metadata": {
        "id": "c22b6710"
      },
      "source": [
        "4.Model Definition"
      ]
    },
    {
      "cell_type": "markdown",
      "id": "115e5b15",
      "metadata": {
        "id": "115e5b15"
      },
      "source": [
        "BertForSequenceClassification = BERT + classification head\n",
        "\n",
        "Automatically handles loss computation if labels are provided\n",
        "\n",
        "Use with tokenized inputs: input_ids, attention_mask, and optional labels"
      ]
    },
    {
      "cell_type": "code",
      "execution_count": 31,
      "id": "4a3a3d80",
      "metadata": {
        "colab": {
          "base_uri": "https://localhost:8080/",
          "height": 160,
          "referenced_widgets": [
            "157478cecc744318b6e6bc57ac5e037b",
            "4cd23c49ded146b2b3add2d5961372a4",
            "aa4413f23a69423ba3f96fe8154fb94d",
            "1070534af442450381b211c9c76804ed",
            "d5a2d3e9de1a4786bc34f54040e4aa77",
            "1c27027222554677ab7d53ea99246cd3",
            "d8b951d3f17c41849e774f2536f737d3",
            "2da9bfd43eb84ede8fd93e5ae9774e45",
            "bb034bb8a1414c20bd135f3cd523c0c5",
            "397499592c9d4a00aa184c6be903c62c",
            "5b92857771f14bc8bad557de210bc565"
          ]
        },
        "id": "4a3a3d80",
        "outputId": "1e08fafb-18bc-4eb2-f34d-1b7f16f432bd"
      },
      "outputs": [
        {
          "name": "stderr",
          "output_type": "stream",
          "text": [
            "Some weights of BertForSequenceClassification were not initialized from the model checkpoint at bert-base-uncased and are newly initialized: ['classifier.bias', 'classifier.weight']\n",
            "You should probably TRAIN this model on a down-stream task to be able to use it for predictions and inference.\n"
          ]
        },
        {
          "name": "stdout",
          "output_type": "stream",
          "text": [
            "Model is running on: cpu\n",
            "\n",
            " Model loaded successfully!\n"
          ]
        }
      ],
      "source": [
        "# Load the pre-trained BERT model for sequence classification\n",
        "\n",
        "model = BertForSequenceClassification.from_pretrained('bert-base-uncased', num_labels=len(target_features))\n",
        "\n",
        "# Move the model to designated device (GPU or CPU)\n",
        "\n",
        "device = torch.device('cuda' if torch.cuda.is_available() else 'cpu')\n",
        "\n",
        "\n",
        "\n",
        "model.to(device)\n",
        "\n",
        "print(f\"Model is running on: {device}\")\n",
        "\n",
        "print(\"\\n Model loaded successfully!\")\n"
      ]
    },
    {
      "cell_type": "markdown",
      "id": "7e40bd46",
      "metadata": {
        "id": "7e40bd46"
      },
      "source": [
        "5.Model Training\n",
        "\n",
        "5.1 Setup Optimizer and Scheduler\n",
        "\n",
        "The AdamW optimizer is the default optimizer used in most modern BERT implementations because it effectively handles weight decay.\n",
        "\n",
        "🧠 Why AdamW with BERT?\n",
        "\n",
        "BERT has LayerNorm and bias terms that should not have weight decay.\n",
        "\n",
        "AdamW separates weight decay from gradient updates, which is correct behavior for L2 regularization in transformers."
      ]
    },
    {
      "cell_type": "code",
      "execution_count": 32,
      "id": "71ecb038",
      "metadata": {
        "id": "71ecb038"
      },
      "outputs": [],
      "source": [
        "#5.1 Optimizer and learning rate scheduler\n",
        "\n",
        "# Optimizer\n",
        "# (learning_rate(lr) = 2e-5 is a common choice for fine-tuning BERT)\n",
        "# (Epsilon (eps) = 1e-8 is a small value to prevent division by zero in AdamW optimizer)\n",
        "\n",
        "optimizer = AdamW(model.parameters(), lr=2e-5, eps=1e-8)\n",
        "\n",
        "# Total number of training steps\n",
        "\n",
        "total_steps = len(train_loader) * 3  # Assuming 5 epochs ( Epochs = 3)\n",
        "\n",
        "# Learning rate scheduler\n",
        "scheduler = get_linear_schedule_with_warmup(\n",
        "    optimizer,\n",
        "    num_warmup_steps=0,  # No warmup steps\n",
        "    num_training_steps=total_steps\n",
        ")\n",
        "# Loss function #Sigmoid activation + Binary Cross Entropy (BCE) loss\n",
        "loss_fn = nn.BCEWithLogitsLoss().to(device)  # Binary Cross-Entropy Loss for multi-label classification\n"
      ]
    },
    {
      "cell_type": "markdown",
      "id": "8a1c26ea",
      "metadata": {
        "id": "8a1c26ea"
      },
      "source": [
        "5.2 Training Loop\n",
        "\n",
        "📌 Key Concepts\n",
        "\n",
        "Step\t                Purpose\n",
        "model.train()\t      -     Enables training behaviors like dropout\n",
        "\n",
        "optimizer.zero_grad() -\tClears previously accumulated gradients\n",
        "\n",
        "loss.backward()\t      -    Computes gradients via backpropagation\n",
        "\n",
        "optimizer.step()\t  -    Updates model parameters using optimizer\n",
        "\n",
        "scheduler.step()\t  -    Adjusts learning rate (optional)\n",
        "\n"
      ]
    },
    {
      "cell_type": "code",
      "execution_count": 33,
      "id": "c3184c7f",
      "metadata": {
        "id": "c3184c7f"
      },
      "outputs": [],
      "source": [
        "# 5.2 Training Loop\n",
        "\n",
        "def train_epoch(model, data_loader, loss_fn, optimizer, device, Scheduler):\n",
        "    model.train()  # Set the model to training mode\n",
        "    total_loss = 0\n",
        "    num_batches = len(data_loader)\n",
        "\n",
        "    for i , data in enumerate(data_loader):\n",
        "        input_ids = data['input_ids'].to(device)\n",
        "        attention_mask = data['attention_mask'].to(device)\n",
        "        targets = data['targets'].to(device)\n",
        "\n",
        "        # Forward pass\n",
        "        outputs = model(input_ids=input_ids, attention_mask=attention_mask)\n",
        "        logits = outputs.logits # logits are the raw output scores from the model\n",
        "\n",
        "        # Calculate loss\n",
        "        loss = loss_fn(logits, targets)\n",
        "        total_loss += loss.item()\n",
        "\n",
        "        # Backward pass and optimization\n",
        "        optimizer.zero_grad() # Reset gradients\n",
        "        loss.backward()\n",
        "        torch.nn.utils.clip_grad_norm_(model.parameters(), max_norm=1.0) # Clip gradients to prevent exploding gradients\n",
        "        optimizer.step()\n",
        "        Scheduler.step()\n",
        "\n",
        "        # Print progress every 100 batches\n",
        "\n",
        "        if (i + 1) % 100 == 0:\n",
        "            print(f\"Batch {i + 1}/{num_batches}, Loss: {loss.item():.4f}\")\n",
        "    avg_train_loss = total_loss / num_batches\n",
        "    print(f\"Average Loss for this epoch: {avg_train_loss:.4f}\")\n",
        "    return avg_train_loss\n"
      ]
    },
    {
      "cell_type": "markdown",
      "id": "c6083c75",
      "metadata": {
        "id": "c6083c75"
      },
      "source": [
        "5.3 Evaluation loop\n",
        "\n",
        "The evaluation loop  runs the model on a validation or test dataset without\n",
        "updating weights to measure performance.\n",
        "\n",
        "✅ Purpose\n",
        "\n",
        "Check model performance during or after training.\n",
        "\n",
        "Compute metrics: loss, accuracy, F1, etc.\n",
        "\n",
        "Ensure model.eval() is called to disable dropout, etc.\n",
        "\n",
        "No gradients: We use torch.no_grad() for efficiency.\n",
        "\n",
        "📌 Key Concepts\n",
        "\n",
        "Step\t                        Description\n",
        "\n",
        "model.eval()\t            -    Disables dropout, layernorm updates\n",
        "\n",
        "torch.no_grad()\t            -   Speeds up computation, avoids storing gradients\n",
        "\n",
        "loss_fn(outputs, labels)    -   Same loss as training (e.g., BCEWithLogitsLoss)\n",
        "\n",
        "torch.sigmoid(outputs) > 0.5 -\tConverts logits to binary predictions\n",
        "\n"
      ]
    },
    {
      "cell_type": "code",
      "execution_count": 34,
      "id": "2e3ab193",
      "metadata": {
        "id": "2e3ab193"
      },
      "outputs": [],
      "source": [
        "from sklearn.metrics import roc_auc_score, hamming_loss\n",
        "import numpy as np\n",
        "import torch\n",
        "\n",
        "def eval_model(model, data_loader, loss_fn, device, target_features):\n",
        "    model.eval()  # Set the model to evaluation mode\n",
        "    total_loss = 0\n",
        "    all_targets = []\n",
        "    all_predictions = []\n",
        "    num_batches = len(data_loader)\n",
        "\n",
        "    with torch.no_grad():  # Disable gradient calculation for evaluation\n",
        "        for data in data_loader:\n",
        "            input_ids = data['input_ids'].to(device)\n",
        "            attention_mask = data['attention_mask'].to(device)\n",
        "            targets = data['targets'].to(device)\n",
        "\n",
        "            # Forward pass\n",
        "            outputs = model(input_ids=input_ids, attention_mask=attention_mask)\n",
        "            logits = outputs.logits\n",
        "\n",
        "            # Calculate loss\n",
        "            loss = loss_fn(logits, targets)\n",
        "            total_loss += loss.item()\n",
        "\n",
        "            # Store predictions and true labels\n",
        "            probs = torch.sigmoid(logits)\n",
        "            all_predictions.append(probs.cpu().numpy())\n",
        "            all_targets.append(targets.cpu().numpy())\n",
        "\n",
        "        avg_eval_loss = total_loss / num_batches\n",
        "        print(f\"Average Loss for this epoch: {avg_eval_loss:.4f}\")\n",
        "\n",
        "        # Concatenate results from all batches\n",
        "        all_predictions = np.concatenate(all_predictions, axis=0)\n",
        "        all_targets = np.concatenate(all_targets, axis=0)\n",
        "\n",
        "        # Calculate metrics\n",
        "        roc_auc_scores = {}\n",
        "        mean_roc_auc = 0\n",
        "\n",
        "        try:\n",
        "            for i, label_name in enumerate(target_features):\n",
        "                if len(np.unique(all_targets[:, i])) > 1:\n",
        "                    roc_auc_scores[label_name] = roc_auc_score(all_targets[:, i], all_predictions[:, i])\n",
        "                else:\n",
        "                    roc_auc_scores[label_name] = np.nan\n",
        "\n",
        "            # Calculate mean AUC, ignoring NaNs\n",
        "            mean_roc_auc = np.nanmean(list(roc_auc_scores.values()))\n",
        "\n",
        "            print(f\"Mean ROC AUC: {mean_roc_auc:.4f}\")\n",
        "            print(\"Individual ROC AUC Scores:\")\n",
        "            for name, score in roc_auc_scores.items():\n",
        "                print(f\"{name}: {score:.4f}\")\n",
        "\n",
        "        except Exception as e:\n",
        "            print(f\"Could not calculate ROC AUC: {e}\")\n",
        "\n",
        "        # Calculate Hamming Loss\n",
        "        threshold = 0.5\n",
        "        binary_predictions = (all_predictions > threshold).astype(int)\n",
        "        hamming = hamming_loss(all_targets, binary_predictions)\n",
        "        print(f\"Hamming Loss: {hamming:.4f}\")\n",
        "\n",
        "        return avg_eval_loss, mean_roc_auc, hamming"
      ]
    },
    {
      "cell_type": "markdown",
      "id": "ae3e98f6",
      "metadata": {
        "id": "ae3e98f6"
      },
      "source": [
        "5.4 Execute training and Evaluation Loop\n",
        "\n",
        "Trains a PyTorch model over multiple epochs.\n",
        "\n",
        "Tracks and saves the best model (based on validation ROC AUC).\n",
        "\n",
        "Loads the best model after training for future use."
      ]
    },
    {
      "cell_type": "code",
      "execution_count": null,
      "id": "61bd5dcc",
      "metadata": {
        "colab": {
          "base_uri": "https://localhost:8080/"
        },
        "id": "61bd5dcc",
        "outputId": "23d42f3d-6564-40b2-e67a-0d82a091de10"
      },
      "outputs": [
        {
          "name": "stdout",
          "output_type": "stream",
          "text": [
            "\n",
            " Training Start\n",
            "\n",
            "-----Epoch 1/3-----\n",
            "Batch 100/250, Loss: 0.1283\n",
            "Batch 200/250, Loss: 0.1758\n",
            "Average Loss for this epoch: 0.1569\n",
            "\n",
            " ----- validation Epoch 1-----\n",
            "Average Loss for this epoch: 0.0994\n",
            "Mean ROC AUC: 0.7906\n",
            "Individual ROC AUC Scores:\n",
            "toxic: 0.9011\n",
            "severe_toxic: 0.8954\n",
            "obscene: 0.9421\n",
            "threat: 0.1968\n",
            "insult: 0.9042\n",
            "identity_hate: 0.9038\n",
            "Hamming Loss: 0.0272\n",
            "----New best model saved with ROC AUC:0.7906----\n",
            "\n",
            "-----Epoch 2/3-----\n",
            "Batch 100/250, Loss: 0.0526\n",
            "Batch 200/250, Loss: 0.0268\n",
            "Average Loss for this epoch: 0.0802\n",
            "\n",
            " ----- validation Epoch 2-----\n",
            "Average Loss for this epoch: 0.0818\n",
            "Mean ROC AUC: 0.8921\n",
            "Individual ROC AUC Scores:\n",
            "toxic: 0.9323\n",
            "severe_toxic: 0.9465\n",
            "obscene: 0.9727\n",
            "threat: 0.5859\n",
            "insult: 0.9539\n",
            "identity_hate: 0.9613\n",
            "Hamming Loss: 0.0253\n",
            "----New best model saved with ROC AUC:0.8921----\n",
            "\n",
            "-----Epoch 3/3-----\n",
            "Batch 100/250, Loss: 0.1505\n",
            "Batch 200/250, Loss: 0.0746\n",
            "Average Loss for this epoch: 0.0610\n",
            "\n",
            " ----- validation Epoch 3-----\n",
            "Average Loss for this epoch: 0.0752\n",
            "Mean ROC AUC: 0.9092\n",
            "Individual ROC AUC Scores:\n",
            "toxic: 0.9350\n",
            "severe_toxic: 0.9553\n",
            "obscene: 0.9758\n",
            "threat: 0.6620\n",
            "insult: 0.9610\n",
            "identity_hate: 0.9661\n",
            "Hamming Loss: 0.0240\n",
            "----New best model saved with ROC AUC:0.9092----\n",
            "\n",
            " Training Finished.\n",
            "Best Validation ROC AUC: 0.909189\n",
            "Load best model state for prediction.\n"
          ]
        }
      ],
      "source": [
        "# 5.4 Execute training and Evaluation\n",
        "\n",
        "result = {'train_loss': [],'eval_loss' : [],'eval_roc_auc':[],'eval_hamming':[]}\n",
        "best_roc_auc = -1\n",
        "best_model_state = None\n",
        "print(\"\\n Training Start\")\n",
        "for epoch in range(3):\n",
        "     # Epoch = 3\n",
        "    print(f'\\n-----Epoch {epoch + 1}/{3}-----')\n",
        "\n",
        "    train_loss=train_epoch(model,train_loader,loss_fn,optimizer, device,scheduler)\n",
        "\n",
        "    result['train_loss'].append(train_loss)\n",
        "\n",
        "    print(f\"\\n ----- validation Epoch {epoch + 1}-----\")\n",
        "\n",
        "    eval_loss, eval_roc_auc , eval_hamming = eval_model(model,val_loader,loss_fn,device,target_features)\n",
        "\n",
        "    result['eval_loss'].append(eval_loss)\n",
        "    result['eval_roc_auc'].append(eval_roc_auc)\n",
        "    result['eval_hamming'].append(eval_hamming)\n",
        "\n",
        "#Save the best model based on validation ROC AUC\n",
        "\n",
        "    if eval_roc_auc > best_roc_auc:\n",
        "\n",
        "      best_roc_auc = eval_roc_auc\n",
        "      best_model_state = model.state_dict()\n",
        "      torch.save(best_model_state, 'best_model_state.bin')\n",
        "      print(f\"----New best model saved with ROC AUC:{best_roc_auc:.4f}----\")\n",
        "print(\"\\n Training Finished.\")\n",
        "print(f\"Best Validation ROC AUC: {best_roc_auc:4f}\")\n",
        "\n",
        "#Load the best model state for prediction\n",
        "if best_model_state:\n",
        "    model.load_state_dict(best_model_state)\n",
        "    print(\"Load best model state for prediction.\")\n",
        "\n",
        "\n"
      ]
    },
    {
      "cell_type": "code",
      "execution_count": null,
      "id": "39a88dcb",
      "metadata": {
        "colab": {
          "base_uri": "https://localhost:8080/",
          "height": 347
        },
        "id": "39a88dcb",
        "outputId": "fd2e8aa4-46c4-45a0-d08c-44a86168caf6"
      },
      "outputs": [
        {
          "data": {
            "image/png": "[encoded data removed]",
            "text/plain": [
              "<Figure size 1200x600 with 2 Axes>"
            ]
          },
          "metadata": {},
          "output_type": "display_data"
        }
      ],
      "source": [
        "#5.5 Plot Training History\n",
        "\n",
        "plt.figure(figsize=(12,6))\n",
        "plt.subplot(1,2,1)\n",
        "plt.plot(range(1,3+1),result['train_loss'],label='Train Loss')\n",
        "plt.plot(range(1,3+1),result['eval_loss'],label='Validation Loss')\n",
        "plt.title('Loss over Epochs')\n",
        "plt.xlabel('Epochs')\n",
        "plt.ylabel('Loss')\n",
        "plt.legend()\n",
        "\n",
        "plt.subplot(1,2,2)\n",
        "plt.plot(range(1,3+1),result['eval_roc_auc'],label='Validation Mean ROC AUC')\n",
        "plt.title('Mean ROC AUC OVER Epochs')\n",
        "plt.xlabel('Epochs')\n",
        "plt.ylabel('Mean ROC AUC')\n",
        "plt.legend()\n",
        "\n",
        "plt.tight_layout()\n",
        "plt.show()"
      ]
    },
    {
      "cell_type": "markdown",
      "id": "9dd35928",
      "metadata": {
        "id": "9dd35928"
      },
      "source": [
        "6.Prediction on Test Set\n",
        "\n",
        "Use the trained (best) model to generate predictions on the unseen test data.\n",
        "\n",
        "6.1 Prepare test Data Loader\n",
        "\n",
        "\n",
        "Create a Dataset and DataLoader for the test set, similar to the training/\n",
        "\n",
        "validation sets, but without labels.\n",
        "\n",
        "\n",
        "\n"
      ]
    },
    {
      "cell_type": "code",
      "execution_count": null,
      "id": "82a236e9",
      "metadata": {
        "id": "82a236e9"
      },
      "outputs": [],
      "source": [
        "# Dataset and DataLoader for the test set\n",
        "\n",
        "class TestCommentDataset(Dataset):\n",
        "    def __init__(self, comments, tokenizer, max_len):\n",
        "        self.comments = comments\n",
        "        self.tokenizer = tokenizer\n",
        "        self.max_len = max_len\n",
        "\n",
        "    def __len__(self):\n",
        "        return len(self.comments)\n",
        "\n",
        "    def __getitem__(self, item):\n",
        "        comment = str(self.comments[item])\n",
        "\n",
        "        encoding = self.tokenizer.encode_plus(\n",
        "            comment,\n",
        "            add_special_tokens=True,\n",
        "            max_length=self.max_len,\n",
        "            return_token_type_ids=False,\n",
        "            padding='max_length',\n",
        "            truncation=True,\n",
        "            return_attention_mask=True,\n",
        "            return_tensors='pt',\n",
        "        )\n",
        "\n",
        "        return {\n",
        "            'input_ids': encoding['input_ids'].flatten(),\n",
        "            'attention_mask': encoding['attention_mask'].flatten(),\n",
        "        }\n",
        "\n",
        "test_texts = df_test['comment_text_cleaned'].values\n",
        "test_dataset = TestCommentDataset(test_texts, tokenizer, 128)\n",
        "test_dataloader = DataLoader(test_dataset, batch_size=128, shuffle=False, num_workers=2)"
      ]
    },
    {
      "cell_type": "markdown",
      "id": "a58c9d89",
      "metadata": {
        "id": "a58c9d89"
      },
      "source": [
        "6.2 Generate Predictions\n",
        "\n",
        "Run the model in evaluation mode on the test data loader"
      ]
    },
    {
      "cell_type": "code",
      "execution_count": null,
      "id": "46af327e",
      "metadata": {
        "colab": {
          "base_uri": "https://localhost:8080/"
        },
        "id": "46af327e",
        "outputId": "de35350b-6618-4912-9efe-711c6bc2304b"
      },
      "outputs": [
        {
          "name": "stdout",
          "output_type": "stream",
          "text": [
            "\n",
            "Generating predictions on test data...\n",
            "Predictions generated successfully.\n",
            "Shape of predictions: (10000, 6)\n"
          ]
        }
      ],
      "source": [
        "def predict(model, data_loader, device):\n",
        "\n",
        "    model.eval()\n",
        "    predictions = []\n",
        "    print(\"\\nGenerating predictions on test data...\")\n",
        "    with torch.no_grad():\n",
        "        for data in data_loader:\n",
        "            input_ids = data[\"input_ids\"].to(device)\n",
        "            attention_mask = data[\"attention_mask\"].to(device)\n",
        "\n",
        "            outputs = model(\n",
        "                input_ids=input_ids,\n",
        "                attention_mask=attention_mask\n",
        "            )\n",
        "            logits = outputs.logits\n",
        "            probs = torch.sigmoid(logits) # Convert logits to probabilities (0-1 range)\n",
        "            predictions.append(probs.cpu().numpy())\n",
        "\n",
        "    return np.concatenate(predictions, axis=0)\n",
        "\n",
        "test_predictions = predict(model, test_dataloader, device)\n",
        "print(\"Predictions generated successfully.\")\n",
        "print(\"Shape of predictions:\", test_predictions.shape) # Should be (num_test_samples, num_labels)"
      ]
    },
    {
      "cell_type": "markdown",
      "id": "c350084c",
      "metadata": {
        "id": "c350084c"
      },
      "source": [
        "6.3 Format submission File"
      ]
    },
    {
      "cell_type": "code",
      "execution_count": null,
      "id": "ad0d7afd",
      "metadata": {
        "colab": {
          "base_uri": "https://localhost:8080/"
        },
        "id": "ad0d7afd",
        "outputId": "1e5dc6b3-e03c-4332-d3a2-32b81fa6942c"
      },
      "outputs": [
        {
          "name": "stdout",
          "output_type": "stream",
          "text": [
            "\n",
            "Submission DataFrame Head:\n",
            "    id     toxic  severe_toxic   obscene    threat    insult  identity_hate\n",
            "0  NaN  0.016006      0.005539  0.007353  0.005603  0.009312       0.006054\n",
            "1  NaN  0.020613      0.004909  0.008092  0.004786  0.009977       0.005810\n",
            "2  NaN  0.022752      0.004881  0.008269  0.004613  0.010383       0.005855\n",
            "3  NaN  0.938598      0.231614  0.864616  0.077127  0.765073       0.186564\n",
            "4  NaN  0.922554      0.176542  0.819445  0.057149  0.701248       0.144156\n",
            "\n",
            " Submission file 'submission.csv' created successfully.\n"
          ]
        }
      ],
      "source": [
        "#target_features\n",
        "\n",
        "# Create submission DataFrame\n",
        "submission_df = pd.DataFrame(test_predictions, columns=target_features)\n",
        "submission_df['id'] = df_test['id'] # Add the id column\n",
        "\n",
        "# Reorder columns to match sample_submission.csv format ('id' first, then label columns)\n",
        "submission_df = submission_df[['id'] + target_features]\n",
        "\n",
        "print(\"\\nSubmission DataFrame Head:\")\n",
        "print(submission_df.head())\n",
        "\n",
        "# Save to CSV\n",
        "submission_df.to_csv('submission.csv', index=False)\n",
        "\n",
        "print(\"\\n Submission file 'submission.csv' created successfully.\")\n",
        "\n"
      ]
    },
    {
      "cell_type": "code",
      "execution_count": null,
      "id": "0d84f334",
      "metadata": {
        "colab": {
          "base_uri": "https://localhost:8080/"
        },
        "id": "0d84f334",
        "outputId": "334ee244-2bea-4cbe-937d-8ce7ff627298"
      },
      "outputs": [
        {
          "name": "stdout",
          "output_type": "stream",
          "text": [
            "Writing toxic_app.py\n"
          ]
        }
      ],
      "source": [
        "%%writefile toxic_app.py\n",
        "import streamlit as st\n",
        "import torch\n",
        "from transformers import BertTokenizer, BertForSequenceClassification\n",
        "import numpy as np\n",
        "\n",
        "# Define the target labels\n",
        "target_features = ['toxic', 'severe_toxic', 'obscene', 'threat', 'insult', 'identity_hate']\n",
        "\n",
        "# Load tokenizer and model\n",
        "@st.cache_resource\n",
        "def load_model():\n",
        "    tokenizer = BertTokenizer.from_pretrained('bert-base-uncased')\n",
        "    model = BertForSequenceClassification.from_pretrained('bert-base-uncased', num_labels=len(target_features))\n",
        "    model.load_state_dict(torch.load('best_model_state.bin', map_location=torch.device('cpu')))\n",
        "    model.eval()\n",
        "    return tokenizer, model\n",
        "\n",
        "tokenizer, model = load_model()\n",
        "\n",
        "# Streamlit UI\n",
        "st.title(\"🧪 Toxic Comment Classifier\")\n",
        "st.write(\"Enter a comment below to check its toxicity level.\")\n",
        "\n",
        "user_input = st.text_area(\"✏️ Your Comment\", height=150)\n",
        "\n",
        "if st.button(\"🔍 Predict\"):\n",
        "    if not user_input.strip():\n",
        "        st.warning(\"Please enter a comment.\")\n",
        "    else:\n",
        "        with st.spinner(\"Analyzing...\"):\n",
        "            encoded = tokenizer.encode_plus(\n",
        "                user_input,\n",
        "                add_special_tokens=True,\n",
        "                max_length=128,\n",
        "                padding='max_length',\n",
        "                truncation=True,\n",
        "                return_tensors='pt'\n",
        "            )\n",
        "\n",
        "            input_ids = encoded['input_ids']\n",
        "            attention_mask = encoded['attention_mask']\n",
        "\n",
        "            with torch.no_grad():\n",
        "                outputs = model(input_ids=input_ids, attention_mask=attention_mask)\n",
        "                probs = torch.sigmoid(outputs.logits).cpu().numpy()[0]\n",
        "\n",
        "            st.success(\"Prediction complete!\")\n",
        "\n",
        "            st.subheader(\"🧾 Toxicity Scores\")\n",
        "            for label, score in zip(target_features, probs):\n",
        "                st.write(f\"**{label}**: {score:.4f} {'✅' if score < 0.5 else '⚠️'}\")"
      ]
    },
    {
      "cell_type": "code",
      "execution_count": null,
      "id": "fef7b16d",
      "metadata": {
        "id": "fef7b16d"
      },
      "outputs": [],
      "source": [
        "#pip install streamlit"
      ]
    },
    {
      "cell_type": "code",
      "execution_count": null,
      "id": "a05ab326",
      "metadata": {
        "id": "a05ab326"
      },
      "outputs": [],
      "source": [
        "#Make sure to install these in your environment:\n",
        "\n",
        "\n",
        "#!pip install streamlit transformers torch"
      ]
    },
    {
      "cell_type": "code",
      "execution_count": null,
      "id": "929f4ec7",
      "metadata": {
        "colab": {
          "base_uri": "https://localhost:8080/"
        },
        "id": "929f4ec7",
        "outputId": "c2f6617e-50d8-4fc0-82ab-d6f78e891a2a"
      },
      "outputs": [
        {
          "name": "stdout",
          "output_type": "stream",
          "text": [
            "\n",
            "Collecting usage statistics. To deactivate, set browser.gatherUsageStats to false.\n",
            "\u001b[0m\n",
            "\u001b[0m\n",
            "\u001b[34m\u001b[1m  You can now view your Streamlit app in your browser.\u001b[0m\n",
            "\u001b[0m\n",
            "\u001b[34m  Local URL: \u001b[0m\u001b[1mhttp://localhost:8501\u001b[0m\n",
            "\u001b[34m  Network URL: \u001b[0m\u001b[1mhttp://172.28.0.12:8501\u001b[0m\n",
            "\u001b[34m  External URL: \u001b[0m\u001b[1mhttp://35.203.185.145:8501\u001b[0m\n",
            "\u001b[0m\n"
          ]
        }
      ],
      "source": [
        "#In the terminal, run:\n",
        "#You can't run the Streamlit UI inside a Jupyter Notebook.\n",
        "# But you can launch it in a new browser tab from a notebook cell using:\n",
        "#e.g This will start the Streamlit app and give you a link like http://localhost:8501.\n",
        "\n",
        "\n",
        "\n",
        "!streamlit run toxic_app.py"
      ]
    }
  ],
  "metadata": {
    "accelerator": "GPU",
    "colab": {
      "gpuType": "T4",
      "provenance": []
    },
    "kernelspec": {
      "display_name": "deep_learning",
      "language": "python",
      "name": "python3"
    },
    "language_info": {
      "codemirror_mode": {
        "name": "ipython",
        "version": 3
      },
      "file_extension": ".py",
      "mimetype": "text/x-python",
      "name": "python",
      "nbconvert_exporter": "python",
      "pygments_lexer": "ipython3",
      "version": "3.12.8"
    },
    "widgets": {
      "application/vnd.jupyter.widget-state+json": {
        "0458a0e9874c47028a7f19dac998d7dd": {
          "model_module": "@jupyter-widgets/controls",
          "model_module_version": "1.5.0",
          "model_name": "HBoxModel",
          "state": {
            "_dom_classes": [],
            "_model_module": "@jupyter-widgets/controls",
            "_model_module_version": "1.5.0",
            "_model_name": "HBoxModel",
            "_view_count": null,
            "_view_module": "@jupyter-widgets/controls",
            "_view_module_version": "1.5.0",
            "_view_name": "HBoxView",
            "box_style": "",
            "children": [
              "IPY_MODEL_8d45935c092e478f8f659a2b60c6498a",
              "IPY_MODEL_2d6a82c8ca75488fa09175f6b974d776",
              "IPY_MODEL_04676b939b77415b86887dfd5a2cf180"
            ],
            "layout": "IPY_MODEL_a9d502f8ab80406a9366cb0a47b3b4ed"
          }
        },
        "04676b939b77415b86887dfd5a2cf180": {
          "model_module": "@jupyter-widgets/controls",
          "model_module_version": "1.5.0",
          "model_name": "HTMLModel",
          "state": {
            "_dom_classes": [],
            "_model_module": "@jupyter-widgets/controls",
            "_model_module_version": "1.5.0",
            "_model_name": "HTMLModel",
            "_view_count": null,
            "_view_module": "@jupyter-widgets/controls",
            "_view_module_version": "1.5.0",
            "_view_name": "HTMLView",
            "description": "",
            "description_tooltip": null,
            "layout": "IPY_MODEL_13df0ce4368b4219aff9336d008f7ca6",
            "placeholder": "​",
            "style": "IPY_MODEL_3ea16aaabd6f4ba2acf54e231659d81e",
            "value": " 232k/232k [00:00&lt;00:00, 9.06MB/s]"
          }
        },
        "04f39183b29340588cae05bab574f30b": {
          "model_module": "@jupyter-widgets/base",
          "model_module_version": "1.2.0",
          "model_name": "LayoutModel",
          "state": {
            "_model_module": "@jupyter-widgets/base",
            "_model_module_version": "1.2.0",
            "_model_name": "LayoutModel",
            "_view_count": null,
            "_view_module": "@jupyter-widgets/base",
            "_view_module_version": "1.2.0",
            "_view_name": "LayoutView",
            "align_content": null,
            "align_items": null,
            "align_self": null,
            "border": null,
            "bottom": null,
            "display": null,
            "flex": null,
            "flex_flow": null,
            "grid_area": null,
            "grid_auto_columns": null,
            "grid_auto_flow": null,
            "grid_auto_rows": null,
            "grid_column": null,
            "grid_gap": null,
            "grid_row": null,
            "grid_template_areas": null,
            "grid_template_columns": null,
            "grid_template_rows": null,
            "height": null,
            "justify_content": null,
            "justify_items": null,
            "left": null,
            "margin": null,
            "max_height": null,
            "max_width": null,
            "min_height": null,
            "min_width": null,
            "object_fit": null,
            "object_position": null,
            "order": null,
            "overflow": null,
            "overflow_x": null,
            "overflow_y": null,
            "padding": null,
            "right": null,
            "top": null,
            "visibility": null,
            "width": null
          }
        },
        "08993d4337174854a6314632ff2584d1": {
          "model_module": "@jupyter-widgets/controls",
          "model_module_version": "1.5.0",
          "model_name": "HBoxModel",
          "state": {
            "_dom_classes": [],
            "_model_module": "@jupyter-widgets/controls",
            "_model_module_version": "1.5.0",
            "_model_name": "HBoxModel",
            "_view_count": null,
            "_view_module": "@jupyter-widgets/controls",
            "_view_module_version": "1.5.0",
            "_view_name": "HBoxView",
            "box_style": "",
            "children": [
              "IPY_MODEL_7d7599c49cd1496eabf7a67aa20f286c",
              "IPY_MODEL_9b442aedb22244248125e50975c01b9a",
              "IPY_MODEL_ef38af9507104ead8cf5b6e5622cd59f"
            ],
            "layout": "IPY_MODEL_fdc08641285a4bd2a0b89d3e04765afd"
          }
        },
        "0fa9e62e599a42f3ab0a47c737880adc": {
          "model_module": "@jupyter-widgets/controls",
          "model_module_version": "1.5.0",
          "model_name": "HTMLModel",
          "state": {
            "_dom_classes": [],
            "_model_module": "@jupyter-widgets/controls",
            "_model_module_version": "1.5.0",
            "_model_name": "HTMLModel",
            "_view_count": null,
            "_view_module": "@jupyter-widgets/controls",
            "_view_module_version": "1.5.0",
            "_view_name": "HTMLView",
            "description": "",
            "description_tooltip": null,
            "layout": "IPY_MODEL_7192714acdfb42c49f9cb66036167ede",
            "placeholder": "​",
            "style": "IPY_MODEL_8138c989f8f242d0875c3d47fe477b52",
            "value": "tokenizer.json: 100%"
          }
        },
        "1070534af442450381b211c9c76804ed": {
          "model_module": "@jupyter-widgets/controls",
          "model_module_version": "1.5.0",
          "model_name": "HTMLModel",
          "state": {
            "_dom_classes": [],
            "_model_module": "@jupyter-widgets/controls",
            "_model_module_version": "1.5.0",
            "_model_name": "HTMLModel",
            "_view_count": null,
            "_view_module": "@jupyter-widgets/controls",
            "_view_module_version": "1.5.0",
            "_view_name": "HTMLView",
            "description": "",
            "description_tooltip": null,
            "layout": "IPY_MODEL_397499592c9d4a00aa184c6be903c62c",
            "placeholder": "​",
            "style": "IPY_MODEL_5b92857771f14bc8bad557de210bc565",
            "value": " 440M/440M [00:06&lt;00:00, 69.1MB/s]"
          }
        },
        "13df0ce4368b4219aff9336d008f7ca6": {
          "model_module": "@jupyter-widgets/base",
          "model_module_version": "1.2.0",
          "model_name": "LayoutModel",
          "state": {
            "_model_module": "@jupyter-widgets/base",
            "_model_module_version": "1.2.0",
            "_model_name": "LayoutModel",
            "_view_count": null,
            "_view_module": "@jupyter-widgets/base",
            "_view_module_version": "1.2.0",
            "_view_name": "LayoutView",
            "align_content": null,
            "align_items": null,
            "align_self": null,
            "border": null,
            "bottom": null,
            "display": null,
            "flex": null,
            "flex_flow": null,
            "grid_area": null,
            "grid_auto_columns": null,
            "grid_auto_flow": null,
            "grid_auto_rows": null,
            "grid_column": null,
            "grid_gap": null,
            "grid_row": null,
            "grid_template_areas": null,
            "grid_template_columns": null,
            "grid_template_rows": null,
            "height": null,
            "justify_content": null,
            "justify_items": null,
            "left": null,
            "margin": null,
            "max_height": null,
            "max_width": null,
            "min_height": null,
            "min_width": null,
            "object_fit": null,
            "object_position": null,
            "order": null,
            "overflow": null,
            "overflow_x": null,
            "overflow_y": null,
            "padding": null,
            "right": null,
            "top": null,
            "visibility": null,
            "width": null
          }
        },
        "157478cecc744318b6e6bc57ac5e037b": {
          "model_module": "@jupyter-widgets/controls",
          "model_module_version": "1.5.0",
          "model_name": "HBoxModel",
          "state": {
            "_dom_classes": [],
            "_model_module": "@jupyter-widgets/controls",
            "_model_module_version": "1.5.0",
            "_model_name": "HBoxModel",
            "_view_count": null,
            "_view_module": "@jupyter-widgets/controls",
            "_view_module_version": "1.5.0",
            "_view_name": "HBoxView",
            "box_style": "",
            "children": [
              "IPY_MODEL_4cd23c49ded146b2b3add2d5961372a4",
              "IPY_MODEL_aa4413f23a69423ba3f96fe8154fb94d",
              "IPY_MODEL_1070534af442450381b211c9c76804ed"
            ],
            "layout": "IPY_MODEL_d5a2d3e9de1a4786bc34f54040e4aa77"
          }
        },
        "193a4001b5954707a397dad70d009bb7": {
          "model_module": "@jupyter-widgets/base",
          "model_module_version": "1.2.0",
          "model_name": "LayoutModel",
          "state": {
            "_model_module": "@jupyter-widgets/base",
            "_model_module_version": "1.2.0",
            "_model_name": "LayoutModel",
            "_view_count": null,
            "_view_module": "@jupyter-widgets/base",
            "_view_module_version": "1.2.0",
            "_view_name": "LayoutView",
            "align_content": null,
            "align_items": null,
            "align_self": null,
            "border": null,
            "bottom": null,
            "display": null,
            "flex": null,
            "flex_flow": null,
            "grid_area": null,
            "grid_auto_columns": null,
            "grid_auto_flow": null,
            "grid_auto_rows": null,
            "grid_column": null,
            "grid_gap": null,
            "grid_row": null,
            "grid_template_areas": null,
            "grid_template_columns": null,
            "grid_template_rows": null,
            "height": null,
            "justify_content": null,
            "justify_items": null,
            "left": null,
            "margin": null,
            "max_height": null,
            "max_width": null,
            "min_height": null,
            "min_width": null,
            "object_fit": null,
            "object_position": null,
            "order": null,
            "overflow": null,
            "overflow_x": null,
            "overflow_y": null,
            "padding": null,
            "right": null,
            "top": null,
            "visibility": null,
            "width": null
          }
        },
        "1c27027222554677ab7d53ea99246cd3": {
          "model_module": "@jupyter-widgets/base",
          "model_module_version": "1.2.0",
          "model_name": "LayoutModel",
          "state": {
            "_model_module": "@jupyter-widgets/base",
            "_model_module_version": "1.2.0",
            "_model_name": "LayoutModel",
            "_view_count": null,
            "_view_module": "@jupyter-widgets/base",
            "_view_module_version": "1.2.0",
            "_view_name": "LayoutView",
            "align_content": null,
            "align_items": null,
            "align_self": null,
            "border": null,
            "bottom": null,
            "display": null,
            "flex": null,
            "flex_flow": null,
            "grid_area": null,
            "grid_auto_columns": null,
            "grid_auto_flow": null,
            "grid_auto_rows": null,
            "grid_column": null,
            "grid_gap": null,
            "grid_row": null,
            "grid_template_areas": null,
            "grid_template_columns": null,
            "grid_template_rows": null,
            "height": null,
            "justify_content": null,
            "justify_items": null,
            "left": null,
            "margin": null,
            "max_height": null,
            "max_width": null,
            "min_height": null,
            "min_width": null,
            "object_fit": null,
            "object_position": null,
            "order": null,
            "overflow": null,
            "overflow_x": null,
            "overflow_y": null,
            "padding": null,
            "right": null,
            "top": null,
            "visibility": null,
            "width": null
          }
        },
        "1d1efaf80e9041819aca7a591ae3a65f": {
          "model_module": "@jupyter-widgets/controls",
          "model_module_version": "1.5.0",
          "model_name": "DescriptionStyleModel",
          "state": {
            "_model_module": "@jupyter-widgets/controls",
            "_model_module_version": "1.5.0",
            "_model_name": "DescriptionStyleModel",
            "_view_count": null,
            "_view_module": "@jupyter-widgets/base",
            "_view_module_version": "1.2.0",
            "_view_name": "StyleView",
            "description_width": ""
          }
        },
        "1ec3993651ab4747a1bdb786e1986596": {
          "model_module": "@jupyter-widgets/controls",
          "model_module_version": "1.5.0",
          "model_name": "HTMLModel",
          "state": {
            "_dom_classes": [],
            "_model_module": "@jupyter-widgets/controls",
            "_model_module_version": "1.5.0",
            "_model_name": "HTMLModel",
            "_view_count": null,
            "_view_module": "@jupyter-widgets/controls",
            "_view_module_version": "1.5.0",
            "_view_name": "HTMLView",
            "description": "",
            "description_tooltip": null,
            "layout": "IPY_MODEL_1eed9596d18e4e1293fa52979458e8e7",
            "placeholder": "​",
            "style": "IPY_MODEL_327c585199d24e62a9bcde8aea17589a",
            "value": " 48.0/48.0 [00:00&lt;00:00, 4.53kB/s]"
          }
        },
        "1eed9596d18e4e1293fa52979458e8e7": {
          "model_module": "@jupyter-widgets/base",
          "model_module_version": "1.2.0",
          "model_name": "LayoutModel",
          "state": {
            "_model_module": "@jupyter-widgets/base",
            "_model_module_version": "1.2.0",
            "_model_name": "LayoutModel",
            "_view_count": null,
            "_view_module": "@jupyter-widgets/base",
            "_view_module_version": "1.2.0",
            "_view_name": "LayoutView",
            "align_content": null,
            "align_items": null,
            "align_self": null,
            "border": null,
            "bottom": null,
            "display": null,
            "flex": null,
            "flex_flow": null,
            "grid_area": null,
            "grid_auto_columns": null,
            "grid_auto_flow": null,
            "grid_auto_rows": null,
            "grid_column": null,
            "grid_gap": null,
            "grid_row": null,
            "grid_template_areas": null,
            "grid_template_columns": null,
            "grid_template_rows": null,
            "height": null,
            "justify_content": null,
            "justify_items": null,
            "left": null,
            "margin": null,
            "max_height": null,
            "max_width": null,
            "min_height": null,
            "min_width": null,
            "object_fit": null,
            "object_position": null,
            "order": null,
            "overflow": null,
            "overflow_x": null,
            "overflow_y": null,
            "padding": null,
            "right": null,
            "top": null,
            "visibility": null,
            "width": null
          }
        },
        "1f7a77ea3ee244db84cc0f4f8802cde5": {
          "model_module": "@jupyter-widgets/controls",
          "model_module_version": "1.5.0",
          "model_name": "DescriptionStyleModel",
          "state": {
            "_model_module": "@jupyter-widgets/controls",
            "_model_module_version": "1.5.0",
            "_model_name": "DescriptionStyleModel",
            "_view_count": null,
            "_view_module": "@jupyter-widgets/base",
            "_view_module_version": "1.2.0",
            "_view_name": "StyleView",
            "description_width": ""
          }
        },
        "2d6a82c8ca75488fa09175f6b974d776": {
          "model_module": "@jupyter-widgets/controls",
          "model_module_version": "1.5.0",
          "model_name": "FloatProgressModel",
          "state": {
            "_dom_classes": [],
            "_model_module": "@jupyter-widgets/controls",
            "_model_module_version": "1.5.0",
            "_model_name": "FloatProgressModel",
            "_view_count": null,
            "_view_module": "@jupyter-widgets/controls",
            "_view_module_version": "1.5.0",
            "_view_name": "ProgressView",
            "bar_style": "success",
            "description": "",
            "description_tooltip": null,
            "layout": "IPY_MODEL_c93dfd35c81f493ea9258e30ef88ff8d",
            "max": 231508,
            "min": 0,
            "orientation": "horizontal",
            "style": "IPY_MODEL_6fd35c280876422083dea2c2a5253194",
            "value": 231508
          }
        },
        "2da9bfd43eb84ede8fd93e5ae9774e45": {
          "model_module": "@jupyter-widgets/base",
          "model_module_version": "1.2.0",
          "model_name": "LayoutModel",
          "state": {
            "_model_module": "@jupyter-widgets/base",
            "_model_module_version": "1.2.0",
            "_model_name": "LayoutModel",
            "_view_count": null,
            "_view_module": "@jupyter-widgets/base",
            "_view_module_version": "1.2.0",
            "_view_name": "LayoutView",
            "align_content": null,
            "align_items": null,
            "align_self": null,
            "border": null,
            "bottom": null,
            "display": null,
            "flex": null,
            "flex_flow": null,
            "grid_area": null,
            "grid_auto_columns": null,
            "grid_auto_flow": null,
            "grid_auto_rows": null,
            "grid_column": null,
            "grid_gap": null,
            "grid_row": null,
            "grid_template_areas": null,
            "grid_template_columns": null,
            "grid_template_rows": null,
            "height": null,
            "justify_content": null,
            "justify_items": null,
            "left": null,
            "margin": null,
            "max_height": null,
            "max_width": null,
            "min_height": null,
            "min_width": null,
            "object_fit": null,
            "object_position": null,
            "order": null,
            "overflow": null,
            "overflow_x": null,
            "overflow_y": null,
            "padding": null,
            "right": null,
            "top": null,
            "visibility": null,
            "width": null
          }
        },
        "327c585199d24e62a9bcde8aea17589a": {
          "model_module": "@jupyter-widgets/controls",
          "model_module_version": "1.5.0",
          "model_name": "DescriptionStyleModel",
          "state": {
            "_model_module": "@jupyter-widgets/controls",
            "_model_module_version": "1.5.0",
            "_model_name": "DescriptionStyleModel",
            "_view_count": null,
            "_view_module": "@jupyter-widgets/base",
            "_view_module_version": "1.2.0",
            "_view_name": "StyleView",
            "description_width": ""
          }
        },
        "330459b2ee7647f6ab8a1967dd286aff": {
          "model_module": "@jupyter-widgets/controls",
          "model_module_version": "1.5.0",
          "model_name": "DescriptionStyleModel",
          "state": {
            "_model_module": "@jupyter-widgets/controls",
            "_model_module_version": "1.5.0",
            "_model_name": "DescriptionStyleModel",
            "_view_count": null,
            "_view_module": "@jupyter-widgets/base",
            "_view_module_version": "1.2.0",
            "_view_name": "StyleView",
            "description_width": ""
          }
        },
        "394dd5feb7fe499bba2e665212624ed8": {
          "model_module": "@jupyter-widgets/base",
          "model_module_version": "1.2.0",
          "model_name": "LayoutModel",
          "state": {
            "_model_module": "@jupyter-widgets/base",
            "_model_module_version": "1.2.0",
            "_model_name": "LayoutModel",
            "_view_count": null,
            "_view_module": "@jupyter-widgets/base",
            "_view_module_version": "1.2.0",
            "_view_name": "LayoutView",
            "align_content": null,
            "align_items": null,
            "align_self": null,
            "border": null,
            "bottom": null,
            "display": null,
            "flex": null,
            "flex_flow": null,
            "grid_area": null,
            "grid_auto_columns": null,
            "grid_auto_flow": null,
            "grid_auto_rows": null,
            "grid_column": null,
            "grid_gap": null,
            "grid_row": null,
            "grid_template_areas": null,
            "grid_template_columns": null,
            "grid_template_rows": null,
            "height": null,
            "justify_content": null,
            "justify_items": null,
            "left": null,
            "margin": null,
            "max_height": null,
            "max_width": null,
            "min_height": null,
            "min_width": null,
            "object_fit": null,
            "object_position": null,
            "order": null,
            "overflow": null,
            "overflow_x": null,
            "overflow_y": null,
            "padding": null,
            "right": null,
            "top": null,
            "visibility": null,
            "width": null
          }
        },
        "397499592c9d4a00aa184c6be903c62c": {
          "model_module": "@jupyter-widgets/base",
          "model_module_version": "1.2.0",
          "model_name": "LayoutModel",
          "state": {
            "_model_module": "@jupyter-widgets/base",
            "_model_module_version": "1.2.0",
            "_model_name": "LayoutModel",
            "_view_count": null,
            "_view_module": "@jupyter-widgets/base",
            "_view_module_version": "1.2.0",
            "_view_name": "LayoutView",
            "align_content": null,
            "align_items": null,
            "align_self": null,
            "border": null,
            "bottom": null,
            "display": null,
            "flex": null,
            "flex_flow": null,
            "grid_area": null,
            "grid_auto_columns": null,
            "grid_auto_flow": null,
            "grid_auto_rows": null,
            "grid_column": null,
            "grid_gap": null,
            "grid_row": null,
            "grid_template_areas": null,
            "grid_template_columns": null,
            "grid_template_rows": null,
            "height": null,
            "justify_content": null,
            "justify_items": null,
            "left": null,
            "margin": null,
            "max_height": null,
            "max_width": null,
            "min_height": null,
            "min_width": null,
            "object_fit": null,
            "object_position": null,
            "order": null,
            "overflow": null,
            "overflow_x": null,
            "overflow_y": null,
            "padding": null,
            "right": null,
            "top": null,
            "visibility": null,
            "width": null
          }
        },
        "3dbd18e0289c4baab389b461adc783df": {
          "model_module": "@jupyter-widgets/base",
          "model_module_version": "1.2.0",
          "model_name": "LayoutModel",
          "state": {
            "_model_module": "@jupyter-widgets/base",
            "_model_module_version": "1.2.0",
            "_model_name": "LayoutModel",
            "_view_count": null,
            "_view_module": "@jupyter-widgets/base",
            "_view_module_version": "1.2.0",
            "_view_name": "LayoutView",
            "align_content": null,
            "align_items": null,
            "align_self": null,
            "border": null,
            "bottom": null,
            "display": null,
            "flex": null,
            "flex_flow": null,
            "grid_area": null,
            "grid_auto_columns": null,
            "grid_auto_flow": null,
            "grid_auto_rows": null,
            "grid_column": null,
            "grid_gap": null,
            "grid_row": null,
            "grid_template_areas": null,
            "grid_template_columns": null,
            "grid_template_rows": null,
            "height": null,
            "justify_content": null,
            "justify_items": null,
            "left": null,
            "margin": null,
            "max_height": null,
            "max_width": null,
            "min_height": null,
            "min_width": null,
            "object_fit": null,
            "object_position": null,
            "order": null,
            "overflow": null,
            "overflow_x": null,
            "overflow_y": null,
            "padding": null,
            "right": null,
            "top": null,
            "visibility": null,
            "width": null
          }
        },
        "3ea16aaabd6f4ba2acf54e231659d81e": {
          "model_module": "@jupyter-widgets/controls",
          "model_module_version": "1.5.0",
          "model_name": "DescriptionStyleModel",
          "state": {
            "_model_module": "@jupyter-widgets/controls",
            "_model_module_version": "1.5.0",
            "_model_name": "DescriptionStyleModel",
            "_view_count": null,
            "_view_module": "@jupyter-widgets/base",
            "_view_module_version": "1.2.0",
            "_view_name": "StyleView",
            "description_width": ""
          }
        },
        "4cd23c49ded146b2b3add2d5961372a4": {
          "model_module": "@jupyter-widgets/controls",
          "model_module_version": "1.5.0",
          "model_name": "HTMLModel",
          "state": {
            "_dom_classes": [],
            "_model_module": "@jupyter-widgets/controls",
            "_model_module_version": "1.5.0",
            "_model_name": "HTMLModel",
            "_view_count": null,
            "_view_module": "@jupyter-widgets/controls",
            "_view_module_version": "1.5.0",
            "_view_name": "HTMLView",
            "description": "",
            "description_tooltip": null,
            "layout": "IPY_MODEL_1c27027222554677ab7d53ea99246cd3",
            "placeholder": "​",
            "style": "IPY_MODEL_d8b951d3f17c41849e774f2536f737d3",
            "value": "model.safetensors: 100%"
          }
        },
        "5b92857771f14bc8bad557de210bc565": {
          "model_module": "@jupyter-widgets/controls",
          "model_module_version": "1.5.0",
          "model_name": "DescriptionStyleModel",
          "state": {
            "_model_module": "@jupyter-widgets/controls",
            "_model_module_version": "1.5.0",
            "_model_name": "DescriptionStyleModel",
            "_view_count": null,
            "_view_module": "@jupyter-widgets/base",
            "_view_module_version": "1.2.0",
            "_view_name": "StyleView",
            "description_width": ""
          }
        },
        "6fd35c280876422083dea2c2a5253194": {
          "model_module": "@jupyter-widgets/controls",
          "model_module_version": "1.5.0",
          "model_name": "ProgressStyleModel",
          "state": {
            "_model_module": "@jupyter-widgets/controls",
            "_model_module_version": "1.5.0",
            "_model_name": "ProgressStyleModel",
            "_view_count": null,
            "_view_module": "@jupyter-widgets/base",
            "_view_module_version": "1.2.0",
            "_view_name": "StyleView",
            "bar_color": null,
            "description_width": ""
          }
        },
        "7192714acdfb42c49f9cb66036167ede": {
          "model_module": "@jupyter-widgets/base",
          "model_module_version": "1.2.0",
          "model_name": "LayoutModel",
          "state": {
            "_model_module": "@jupyter-widgets/base",
            "_model_module_version": "1.2.0",
            "_model_name": "LayoutModel",
            "_view_count": null,
            "_view_module": "@jupyter-widgets/base",
            "_view_module_version": "1.2.0",
            "_view_name": "LayoutView",
            "align_content": null,
            "align_items": null,
            "align_self": null,
            "border": null,
            "bottom": null,
            "display": null,
            "flex": null,
            "flex_flow": null,
            "grid_area": null,
            "grid_auto_columns": null,
            "grid_auto_flow": null,
            "grid_auto_rows": null,
            "grid_column": null,
            "grid_gap": null,
            "grid_row": null,
            "grid_template_areas": null,
            "grid_template_columns": null,
            "grid_template_rows": null,
            "height": null,
            "justify_content": null,
            "justify_items": null,
            "left": null,
            "margin": null,
            "max_height": null,
            "max_width": null,
            "min_height": null,
            "min_width": null,
            "object_fit": null,
            "object_position": null,
            "order": null,
            "overflow": null,
            "overflow_x": null,
            "overflow_y": null,
            "padding": null,
            "right": null,
            "top": null,
            "visibility": null,
            "width": null
          }
        },
        "73128a5bf812428f9a9a7f957887bc11": {
          "model_module": "@jupyter-widgets/base",
          "model_module_version": "1.2.0",
          "model_name": "LayoutModel",
          "state": {
            "_model_module": "@jupyter-widgets/base",
            "_model_module_version": "1.2.0",
            "_model_name": "LayoutModel",
            "_view_count": null,
            "_view_module": "@jupyter-widgets/base",
            "_view_module_version": "1.2.0",
            "_view_name": "LayoutView",
            "align_content": null,
            "align_items": null,
            "align_self": null,
            "border": null,
            "bottom": null,
            "display": null,
            "flex": null,
            "flex_flow": null,
            "grid_area": null,
            "grid_auto_columns": null,
            "grid_auto_flow": null,
            "grid_auto_rows": null,
            "grid_column": null,
            "grid_gap": null,
            "grid_row": null,
            "grid_template_areas": null,
            "grid_template_columns": null,
            "grid_template_rows": null,
            "height": null,
            "justify_content": null,
            "justify_items": null,
            "left": null,
            "margin": null,
            "max_height": null,
            "max_width": null,
            "min_height": null,
            "min_width": null,
            "object_fit": null,
            "object_position": null,
            "order": null,
            "overflow": null,
            "overflow_x": null,
            "overflow_y": null,
            "padding": null,
            "right": null,
            "top": null,
            "visibility": null,
            "width": null
          }
        },
        "7d7599c49cd1496eabf7a67aa20f286c": {
          "model_module": "@jupyter-widgets/controls",
          "model_module_version": "1.5.0",
          "model_name": "HTMLModel",
          "state": {
            "_dom_classes": [],
            "_model_module": "@jupyter-widgets/controls",
            "_model_module_version": "1.5.0",
            "_model_name": "HTMLModel",
            "_view_count": null,
            "_view_module": "@jupyter-widgets/controls",
            "_view_module_version": "1.5.0",
            "_view_name": "HTMLView",
            "description": "",
            "description_tooltip": null,
            "layout": "IPY_MODEL_3dbd18e0289c4baab389b461adc783df",
            "placeholder": "​",
            "style": "IPY_MODEL_f509bb824f474cbaa4ffa8d83a6cf38d",
            "value": "config.json: 100%"
          }
        },
        "7e6199677c3845ada7a830a9ae692d10": {
          "model_module": "@jupyter-widgets/controls",
          "model_module_version": "1.5.0",
          "model_name": "HBoxModel",
          "state": {
            "_dom_classes": [],
            "_model_module": "@jupyter-widgets/controls",
            "_model_module_version": "1.5.0",
            "_model_name": "HBoxModel",
            "_view_count": null,
            "_view_module": "@jupyter-widgets/controls",
            "_view_module_version": "1.5.0",
            "_view_name": "HBoxView",
            "box_style": "",
            "children": [
              "IPY_MODEL_0fa9e62e599a42f3ab0a47c737880adc",
              "IPY_MODEL_d0af6dc2c3f6402aa10fd701ed74880a",
              "IPY_MODEL_884659621fb54e08868d378ae275de54"
            ],
            "layout": "IPY_MODEL_eb8fb84605b0456dbd6a16b8df76c0be"
          }
        },
        "8138c989f8f242d0875c3d47fe477b52": {
          "model_module": "@jupyter-widgets/controls",
          "model_module_version": "1.5.0",
          "model_name": "DescriptionStyleModel",
          "state": {
            "_model_module": "@jupyter-widgets/controls",
            "_model_module_version": "1.5.0",
            "_model_name": "DescriptionStyleModel",
            "_view_count": null,
            "_view_module": "@jupyter-widgets/base",
            "_view_module_version": "1.2.0",
            "_view_name": "StyleView",
            "description_width": ""
          }
        },
        "8352007fc391498a949d0363871a2ed2": {
          "model_module": "@jupyter-widgets/base",
          "model_module_version": "1.2.0",
          "model_name": "LayoutModel",
          "state": {
            "_model_module": "@jupyter-widgets/base",
            "_model_module_version": "1.2.0",
            "_model_name": "LayoutModel",
            "_view_count": null,
            "_view_module": "@jupyter-widgets/base",
            "_view_module_version": "1.2.0",
            "_view_name": "LayoutView",
            "align_content": null,
            "align_items": null,
            "align_self": null,
            "border": null,
            "bottom": null,
            "display": null,
            "flex": null,
            "flex_flow": null,
            "grid_area": null,
            "grid_auto_columns": null,
            "grid_auto_flow": null,
            "grid_auto_rows": null,
            "grid_column": null,
            "grid_gap": null,
            "grid_row": null,
            "grid_template_areas": null,
            "grid_template_columns": null,
            "grid_template_rows": null,
            "height": null,
            "justify_content": null,
            "justify_items": null,
            "left": null,
            "margin": null,
            "max_height": null,
            "max_width": null,
            "min_height": null,
            "min_width": null,
            "object_fit": null,
            "object_position": null,
            "order": null,
            "overflow": null,
            "overflow_x": null,
            "overflow_y": null,
            "padding": null,
            "right": null,
            "top": null,
            "visibility": null,
            "width": null
          }
        },
        "84e751d06fc94b258540c153fe21168f": {
          "model_module": "@jupyter-widgets/base",
          "model_module_version": "1.2.0",
          "model_name": "LayoutModel",
          "state": {
            "_model_module": "@jupyter-widgets/base",
            "_model_module_version": "1.2.0",
            "_model_name": "LayoutModel",
            "_view_count": null,
            "_view_module": "@jupyter-widgets/base",
            "_view_module_version": "1.2.0",
            "_view_name": "LayoutView",
            "align_content": null,
            "align_items": null,
            "align_self": null,
            "border": null,
            "bottom": null,
            "display": null,
            "flex": null,
            "flex_flow": null,
            "grid_area": null,
            "grid_auto_columns": null,
            "grid_auto_flow": null,
            "grid_auto_rows": null,
            "grid_column": null,
            "grid_gap": null,
            "grid_row": null,
            "grid_template_areas": null,
            "grid_template_columns": null,
            "grid_template_rows": null,
            "height": null,
            "justify_content": null,
            "justify_items": null,
            "left": null,
            "margin": null,
            "max_height": null,
            "max_width": null,
            "min_height": null,
            "min_width": null,
            "object_fit": null,
            "object_position": null,
            "order": null,
            "overflow": null,
            "overflow_x": null,
            "overflow_y": null,
            "padding": null,
            "right": null,
            "top": null,
            "visibility": null,
            "width": null
          }
        },
        "87b6da3bd40e4ac0aabc6262055f183f": {
          "model_module": "@jupyter-widgets/controls",
          "model_module_version": "1.5.0",
          "model_name": "DescriptionStyleModel",
          "state": {
            "_model_module": "@jupyter-widgets/controls",
            "_model_module_version": "1.5.0",
            "_model_name": "DescriptionStyleModel",
            "_view_count": null,
            "_view_module": "@jupyter-widgets/base",
            "_view_module_version": "1.2.0",
            "_view_name": "StyleView",
            "description_width": ""
          }
        },
        "884659621fb54e08868d378ae275de54": {
          "model_module": "@jupyter-widgets/controls",
          "model_module_version": "1.5.0",
          "model_name": "HTMLModel",
          "state": {
            "_dom_classes": [],
            "_model_module": "@jupyter-widgets/controls",
            "_model_module_version": "1.5.0",
            "_model_name": "HTMLModel",
            "_view_count": null,
            "_view_module": "@jupyter-widgets/controls",
            "_view_module_version": "1.5.0",
            "_view_name": "HTMLView",
            "description": "",
            "description_tooltip": null,
            "layout": "IPY_MODEL_394dd5feb7fe499bba2e665212624ed8",
            "placeholder": "​",
            "style": "IPY_MODEL_330459b2ee7647f6ab8a1967dd286aff",
            "value": " 466k/466k [00:00&lt;00:00, 3.57MB/s]"
          }
        },
        "8d45935c092e478f8f659a2b60c6498a": {
          "model_module": "@jupyter-widgets/controls",
          "model_module_version": "1.5.0",
          "model_name": "HTMLModel",
          "state": {
            "_dom_classes": [],
            "_model_module": "@jupyter-widgets/controls",
            "_model_module_version": "1.5.0",
            "_model_name": "HTMLModel",
            "_view_count": null,
            "_view_module": "@jupyter-widgets/controls",
            "_view_module_version": "1.5.0",
            "_view_name": "HTMLView",
            "description": "",
            "description_tooltip": null,
            "layout": "IPY_MODEL_84e751d06fc94b258540c153fe21168f",
            "placeholder": "​",
            "style": "IPY_MODEL_87b6da3bd40e4ac0aabc6262055f183f",
            "value": "vocab.txt: 100%"
          }
        },
        "9b442aedb22244248125e50975c01b9a": {
          "model_module": "@jupyter-widgets/controls",
          "model_module_version": "1.5.0",
          "model_name": "FloatProgressModel",
          "state": {
            "_dom_classes": [],
            "_model_module": "@jupyter-widgets/controls",
            "_model_module_version": "1.5.0",
            "_model_name": "FloatProgressModel",
            "_view_count": null,
            "_view_module": "@jupyter-widgets/controls",
            "_view_module_version": "1.5.0",
            "_view_name": "ProgressView",
            "bar_style": "success",
            "description": "",
            "description_tooltip": null,
            "layout": "IPY_MODEL_193a4001b5954707a397dad70d009bb7",
            "max": 570,
            "min": 0,
            "orientation": "horizontal",
            "style": "IPY_MODEL_dda1251a85a94bc98b7f7019da485891",
            "value": 570
          }
        },
        "a59e01f55ee14d9aa4db6702cc6714b9": {
          "model_module": "@jupyter-widgets/base",
          "model_module_version": "1.2.0",
          "model_name": "LayoutModel",
          "state": {
            "_model_module": "@jupyter-widgets/base",
            "_model_module_version": "1.2.0",
            "_model_name": "LayoutModel",
            "_view_count": null,
            "_view_module": "@jupyter-widgets/base",
            "_view_module_version": "1.2.0",
            "_view_name": "LayoutView",
            "align_content": null,
            "align_items": null,
            "align_self": null,
            "border": null,
            "bottom": null,
            "display": null,
            "flex": null,
            "flex_flow": null,
            "grid_area": null,
            "grid_auto_columns": null,
            "grid_auto_flow": null,
            "grid_auto_rows": null,
            "grid_column": null,
            "grid_gap": null,
            "grid_row": null,
            "grid_template_areas": null,
            "grid_template_columns": null,
            "grid_template_rows": null,
            "height": null,
            "justify_content": null,
            "justify_items": null,
            "left": null,
            "margin": null,
            "max_height": null,
            "max_width": null,
            "min_height": null,
            "min_width": null,
            "object_fit": null,
            "object_position": null,
            "order": null,
            "overflow": null,
            "overflow_x": null,
            "overflow_y": null,
            "padding": null,
            "right": null,
            "top": null,
            "visibility": null,
            "width": null
          }
        },
        "a7300415447947f686a7db06538ff998": {
          "model_module": "@jupyter-widgets/controls",
          "model_module_version": "1.5.0",
          "model_name": "FloatProgressModel",
          "state": {
            "_dom_classes": [],
            "_model_module": "@jupyter-widgets/controls",
            "_model_module_version": "1.5.0",
            "_model_name": "FloatProgressModel",
            "_view_count": null,
            "_view_module": "@jupyter-widgets/controls",
            "_view_module_version": "1.5.0",
            "_view_name": "ProgressView",
            "bar_style": "success",
            "description": "",
            "description_tooltip": null,
            "layout": "IPY_MODEL_8352007fc391498a949d0363871a2ed2",
            "max": 48,
            "min": 0,
            "orientation": "horizontal",
            "style": "IPY_MODEL_ba75673329834b2f81f71a49c229ba28",
            "value": 48
          }
        },
        "a9d502f8ab80406a9366cb0a47b3b4ed": {
          "model_module": "@jupyter-widgets/base",
          "model_module_version": "1.2.0",
          "model_name": "LayoutModel",
          "state": {
            "_model_module": "@jupyter-widgets/base",
            "_model_module_version": "1.2.0",
            "_model_name": "LayoutModel",
            "_view_count": null,
            "_view_module": "@jupyter-widgets/base",
            "_view_module_version": "1.2.0",
            "_view_name": "LayoutView",
            "align_content": null,
            "align_items": null,
            "align_self": null,
            "border": null,
            "bottom": null,
            "display": null,
            "flex": null,
            "flex_flow": null,
            "grid_area": null,
            "grid_auto_columns": null,
            "grid_auto_flow": null,
            "grid_auto_rows": null,
            "grid_column": null,
            "grid_gap": null,
            "grid_row": null,
            "grid_template_areas": null,
            "grid_template_columns": null,
            "grid_template_rows": null,
            "height": null,
            "justify_content": null,
            "justify_items": null,
            "left": null,
            "margin": null,
            "max_height": null,
            "max_width": null,
            "min_height": null,
            "min_width": null,
            "object_fit": null,
            "object_position": null,
            "order": null,
            "overflow": null,
            "overflow_x": null,
            "overflow_y": null,
            "padding": null,
            "right": null,
            "top": null,
            "visibility": null,
            "width": null
          }
        },
        "aa4413f23a69423ba3f96fe8154fb94d": {
          "model_module": "@jupyter-widgets/controls",
          "model_module_version": "1.5.0",
          "model_name": "FloatProgressModel",
          "state": {
            "_dom_classes": [],
            "_model_module": "@jupyter-widgets/controls",
            "_model_module_version": "1.5.0",
            "_model_name": "FloatProgressModel",
            "_view_count": null,
            "_view_module": "@jupyter-widgets/controls",
            "_view_module_version": "1.5.0",
            "_view_name": "ProgressView",
            "bar_style": "success",
            "description": "",
            "description_tooltip": null,
            "layout": "IPY_MODEL_2da9bfd43eb84ede8fd93e5ae9774e45",
            "max": 440449768,
            "min": 0,
            "orientation": "horizontal",
            "style": "IPY_MODEL_bb034bb8a1414c20bd135f3cd523c0c5",
            "value": 440449768
          }
        },
        "ba75673329834b2f81f71a49c229ba28": {
          "model_module": "@jupyter-widgets/controls",
          "model_module_version": "1.5.0",
          "model_name": "ProgressStyleModel",
          "state": {
            "_model_module": "@jupyter-widgets/controls",
            "_model_module_version": "1.5.0",
            "_model_name": "ProgressStyleModel",
            "_view_count": null,
            "_view_module": "@jupyter-widgets/base",
            "_view_module_version": "1.2.0",
            "_view_name": "StyleView",
            "bar_color": null,
            "description_width": ""
          }
        },
        "bb034bb8a1414c20bd135f3cd523c0c5": {
          "model_module": "@jupyter-widgets/controls",
          "model_module_version": "1.5.0",
          "model_name": "ProgressStyleModel",
          "state": {
            "_model_module": "@jupyter-widgets/controls",
            "_model_module_version": "1.5.0",
            "_model_name": "ProgressStyleModel",
            "_view_count": null,
            "_view_module": "@jupyter-widgets/base",
            "_view_module_version": "1.2.0",
            "_view_name": "StyleView",
            "bar_color": null,
            "description_width": ""
          }
        },
        "c93dfd35c81f493ea9258e30ef88ff8d": {
          "model_module": "@jupyter-widgets/base",
          "model_module_version": "1.2.0",
          "model_name": "LayoutModel",
          "state": {
            "_model_module": "@jupyter-widgets/base",
            "_model_module_version": "1.2.0",
            "_model_name": "LayoutModel",
            "_view_count": null,
            "_view_module": "@jupyter-widgets/base",
            "_view_module_version": "1.2.0",
            "_view_name": "LayoutView",
            "align_content": null,
            "align_items": null,
            "align_self": null,
            "border": null,
            "bottom": null,
            "display": null,
            "flex": null,
            "flex_flow": null,
            "grid_area": null,
            "grid_auto_columns": null,
            "grid_auto_flow": null,
            "grid_auto_rows": null,
            "grid_column": null,
            "grid_gap": null,
            "grid_row": null,
            "grid_template_areas": null,
            "grid_template_columns": null,
            "grid_template_rows": null,
            "height": null,
            "justify_content": null,
            "justify_items": null,
            "left": null,
            "margin": null,
            "max_height": null,
            "max_width": null,
            "min_height": null,
            "min_width": null,
            "object_fit": null,
            "object_position": null,
            "order": null,
            "overflow": null,
            "overflow_x": null,
            "overflow_y": null,
            "padding": null,
            "right": null,
            "top": null,
            "visibility": null,
            "width": null
          }
        },
        "ccbbb51326f8483d8c99b281514f7d92": {
          "model_module": "@jupyter-widgets/controls",
          "model_module_version": "1.5.0",
          "model_name": "ProgressStyleModel",
          "state": {
            "_model_module": "@jupyter-widgets/controls",
            "_model_module_version": "1.5.0",
            "_model_name": "ProgressStyleModel",
            "_view_count": null,
            "_view_module": "@jupyter-widgets/base",
            "_view_module_version": "1.2.0",
            "_view_name": "StyleView",
            "bar_color": null,
            "description_width": ""
          }
        },
        "d0af6dc2c3f6402aa10fd701ed74880a": {
          "model_module": "@jupyter-widgets/controls",
          "model_module_version": "1.5.0",
          "model_name": "FloatProgressModel",
          "state": {
            "_dom_classes": [],
            "_model_module": "@jupyter-widgets/controls",
            "_model_module_version": "1.5.0",
            "_model_name": "FloatProgressModel",
            "_view_count": null,
            "_view_module": "@jupyter-widgets/controls",
            "_view_module_version": "1.5.0",
            "_view_name": "ProgressView",
            "bar_style": "success",
            "description": "",
            "description_tooltip": null,
            "layout": "IPY_MODEL_73128a5bf812428f9a9a7f957887bc11",
            "max": 466062,
            "min": 0,
            "orientation": "horizontal",
            "style": "IPY_MODEL_ccbbb51326f8483d8c99b281514f7d92",
            "value": 466062
          }
        },
        "d5a2d3e9de1a4786bc34f54040e4aa77": {
          "model_module": "@jupyter-widgets/base",
          "model_module_version": "1.2.0",
          "model_name": "LayoutModel",
          "state": {
            "_model_module": "@jupyter-widgets/base",
            "_model_module_version": "1.2.0",
            "_model_name": "LayoutModel",
            "_view_count": null,
            "_view_module": "@jupyter-widgets/base",
            "_view_module_version": "1.2.0",
            "_view_name": "LayoutView",
            "align_content": null,
            "align_items": null,
            "align_self": null,
            "border": null,
            "bottom": null,
            "display": null,
            "flex": null,
            "flex_flow": null,
            "grid_area": null,
            "grid_auto_columns": null,
            "grid_auto_flow": null,
            "grid_auto_rows": null,
            "grid_column": null,
            "grid_gap": null,
            "grid_row": null,
            "grid_template_areas": null,
            "grid_template_columns": null,
            "grid_template_rows": null,
            "height": null,
            "justify_content": null,
            "justify_items": null,
            "left": null,
            "margin": null,
            "max_height": null,
            "max_width": null,
            "min_height": null,
            "min_width": null,
            "object_fit": null,
            "object_position": null,
            "order": null,
            "overflow": null,
            "overflow_x": null,
            "overflow_y": null,
            "padding": null,
            "right": null,
            "top": null,
            "visibility": null,
            "width": null
          }
        },
        "d8b951d3f17c41849e774f2536f737d3": {
          "model_module": "@jupyter-widgets/controls",
          "model_module_version": "1.5.0",
          "model_name": "DescriptionStyleModel",
          "state": {
            "_model_module": "@jupyter-widgets/controls",
            "_model_module_version": "1.5.0",
            "_model_name": "DescriptionStyleModel",
            "_view_count": null,
            "_view_module": "@jupyter-widgets/base",
            "_view_module_version": "1.2.0",
            "_view_name": "StyleView",
            "description_width": ""
          }
        },
        "dda1251a85a94bc98b7f7019da485891": {
          "model_module": "@jupyter-widgets/controls",
          "model_module_version": "1.5.0",
          "model_name": "ProgressStyleModel",
          "state": {
            "_model_module": "@jupyter-widgets/controls",
            "_model_module_version": "1.5.0",
            "_model_name": "ProgressStyleModel",
            "_view_count": null,
            "_view_module": "@jupyter-widgets/base",
            "_view_module_version": "1.2.0",
            "_view_name": "StyleView",
            "bar_color": null,
            "description_width": ""
          }
        },
        "e884de8543504de2b4461ba6f4659732": {
          "model_module": "@jupyter-widgets/controls",
          "model_module_version": "1.5.0",
          "model_name": "HBoxModel",
          "state": {
            "_dom_classes": [],
            "_model_module": "@jupyter-widgets/controls",
            "_model_module_version": "1.5.0",
            "_model_name": "HBoxModel",
            "_view_count": null,
            "_view_module": "@jupyter-widgets/controls",
            "_view_module_version": "1.5.0",
            "_view_name": "HBoxView",
            "box_style": "",
            "children": [
              "IPY_MODEL_fa6686cbdd734b86acb8a5fe08e07552",
              "IPY_MODEL_a7300415447947f686a7db06538ff998",
              "IPY_MODEL_1ec3993651ab4747a1bdb786e1986596"
            ],
            "layout": "IPY_MODEL_a59e01f55ee14d9aa4db6702cc6714b9"
          }
        },
        "eb8fb84605b0456dbd6a16b8df76c0be": {
          "model_module": "@jupyter-widgets/base",
          "model_module_version": "1.2.0",
          "model_name": "LayoutModel",
          "state": {
            "_model_module": "@jupyter-widgets/base",
            "_model_module_version": "1.2.0",
            "_model_name": "LayoutModel",
            "_view_count": null,
            "_view_module": "@jupyter-widgets/base",
            "_view_module_version": "1.2.0",
            "_view_name": "LayoutView",
            "align_content": null,
            "align_items": null,
            "align_self": null,
            "border": null,
            "bottom": null,
            "display": null,
            "flex": null,
            "flex_flow": null,
            "grid_area": null,
            "grid_auto_columns": null,
            "grid_auto_flow": null,
            "grid_auto_rows": null,
            "grid_column": null,
            "grid_gap": null,
            "grid_row": null,
            "grid_template_areas": null,
            "grid_template_columns": null,
            "grid_template_rows": null,
            "height": null,
            "justify_content": null,
            "justify_items": null,
            "left": null,
            "margin": null,
            "max_height": null,
            "max_width": null,
            "min_height": null,
            "min_width": null,
            "object_fit": null,
            "object_position": null,
            "order": null,
            "overflow": null,
            "overflow_x": null,
            "overflow_y": null,
            "padding": null,
            "right": null,
            "top": null,
            "visibility": null,
            "width": null
          }
        },
        "ef38af9507104ead8cf5b6e5622cd59f": {
          "model_module": "@jupyter-widgets/controls",
          "model_module_version": "1.5.0",
          "model_name": "HTMLModel",
          "state": {
            "_dom_classes": [],
            "_model_module": "@jupyter-widgets/controls",
            "_model_module_version": "1.5.0",
            "_model_name": "HTMLModel",
            "_view_count": null,
            "_view_module": "@jupyter-widgets/controls",
            "_view_module_version": "1.5.0",
            "_view_name": "HTMLView",
            "description": "",
            "description_tooltip": null,
            "layout": "IPY_MODEL_04f39183b29340588cae05bab574f30b",
            "placeholder": "​",
            "style": "IPY_MODEL_1f7a77ea3ee244db84cc0f4f8802cde5",
            "value": " 570/570 [00:00&lt;00:00, 49.6kB/s]"
          }
        },
        "f4bfa1a12d3644ec8b9a769a9667b714": {
          "model_module": "@jupyter-widgets/base",
          "model_module_version": "1.2.0",
          "model_name": "LayoutModel",
          "state": {
            "_model_module": "@jupyter-widgets/base",
            "_model_module_version": "1.2.0",
            "_model_name": "LayoutModel",
            "_view_count": null,
            "_view_module": "@jupyter-widgets/base",
            "_view_module_version": "1.2.0",
            "_view_name": "LayoutView",
            "align_content": null,
            "align_items": null,
            "align_self": null,
            "border": null,
            "bottom": null,
            "display": null,
            "flex": null,
            "flex_flow": null,
            "grid_area": null,
            "grid_auto_columns": null,
            "grid_auto_flow": null,
            "grid_auto_rows": null,
            "grid_column": null,
            "grid_gap": null,
            "grid_row": null,
            "grid_template_areas": null,
            "grid_template_columns": null,
            "grid_template_rows": null,
            "height": null,
            "justify_content": null,
            "justify_items": null,
            "left": null,
            "margin": null,
            "max_height": null,
            "max_width": null,
            "min_height": null,
            "min_width": null,
            "object_fit": null,
            "object_position": null,
            "order": null,
            "overflow": null,
            "overflow_x": null,
            "overflow_y": null,
            "padding": null,
            "right": null,
            "top": null,
            "visibility": null,
            "width": null
          }
        },
        "f509bb824f474cbaa4ffa8d83a6cf38d": {
          "model_module": "@jupyter-widgets/controls",
          "model_module_version": "1.5.0",
          "model_name": "DescriptionStyleModel",
          "state": {
            "_model_module": "@jupyter-widgets/controls",
            "_model_module_version": "1.5.0",
            "_model_name": "DescriptionStyleModel",
            "_view_count": null,
            "_view_module": "@jupyter-widgets/base",
            "_view_module_version": "1.2.0",
            "_view_name": "StyleView",
            "description_width": ""
          }
        },
        "fa6686cbdd734b86acb8a5fe08e07552": {
          "model_module": "@jupyter-widgets/controls",
          "model_module_version": "1.5.0",
          "model_name": "HTMLModel",
          "state": {
            "_dom_classes": [],
            "_model_module": "@jupyter-widgets/controls",
            "_model_module_version": "1.5.0",
            "_model_name": "HTMLModel",
            "_view_count": null,
            "_view_module": "@jupyter-widgets/controls",
            "_view_module_version": "1.5.0",
            "_view_name": "HTMLView",
            "description": "",
            "description_tooltip": null,
            "layout": "IPY_MODEL_f4bfa1a12d3644ec8b9a769a9667b714",
            "placeholder": "​",
            "style": "IPY_MODEL_1d1efaf80e9041819aca7a591ae3a65f",
            "value": "tokenizer_config.json: 100%"
          }
        },
        "fdc08641285a4bd2a0b89d3e04765afd": {
          "model_module": "@jupyter-widgets/base",
          "model_module_version": "1.2.0",
          "model_name": "LayoutModel",
          "state": {
            "_model_module": "@jupyter-widgets/base",
            "_model_module_version": "1.2.0",
            "_model_name": "LayoutModel",
            "_view_count": null,
            "_view_module": "@jupyter-widgets/base",
            "_view_module_version": "1.2.0",
            "_view_name": "LayoutView",
            "align_content": null,
            "align_items": null,
            "align_self": null,
            "border": null,
            "bottom": null,
            "display": null,
            "flex": null,
            "flex_flow": null,
            "grid_area": null,
            "grid_auto_columns": null,
            "grid_auto_flow": null,
            "grid_auto_rows": null,
            "grid_column": null,
            "grid_gap": null,
            "grid_row": null,
            "grid_template_areas": null,
            "grid_template_columns": null,
            "grid_template_rows": null,
            "height": null,
            "justify_content": null,
            "justify_items": null,
            "left": null,
            "margin": null,
            "max_height": null,
            "max_width": null,
            "min_height": null,
            "min_width": null,
            "object_fit": null,
            "object_position": null,
            "order": null,
            "overflow": null,
            "overflow_x": null,
            "overflow_y": null,
            "padding": null,
            "right": null,
            "top": null,
            "visibility": null,
            "width": null
          }
        }
      }
    }
  },
  "nbformat": 4,
  "nbformat_minor": 5
}
